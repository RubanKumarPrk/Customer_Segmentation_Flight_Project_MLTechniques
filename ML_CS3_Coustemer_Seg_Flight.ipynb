{
  "nbformat": 4,
  "nbformat_minor": 0,
  "metadata": {
    "colab": {
      "provenance": [],
      "collapsed_sections": []
    },
    "kernelspec": {
      "name": "python3",
      "display_name": "Python 3"
    },
    "language_info": {
      "name": "python"
    }
  },
  "cells": [
    {
      "cell_type": "markdown",
      "source": [
        "#Customer Segmentaion Flight Data"
      ],
      "metadata": {
        "id": "xiyoJmZTmyDs"
      }
    },
    {
      "cell_type": "code",
      "execution_count": 50,
      "metadata": {
        "id": "rT-9op-EkrpW"
      },
      "outputs": [],
      "source": [
        "import pandas as pd"
      ]
    },
    {
      "cell_type": "code",
      "source": [
        "data = pd.read_csv('flight_test.csv')"
      ],
      "metadata": {
        "id": "UnWOSvt9np6H"
      },
      "execution_count": 51,
      "outputs": []
    },
    {
      "cell_type": "code",
      "source": [
        "data.shape"
      ],
      "metadata": {
        "colab": {
          "base_uri": "https://localhost:8080/"
        },
        "id": "cL7h2GZlnp8D",
        "outputId": "8b9c0043-ac24-4d2c-a148-38aed7f066f1"
      },
      "execution_count": 52,
      "outputs": [
        {
          "output_type": "execute_result",
          "data": {
            "text/plain": [
              "(7988, 23)"
            ]
          },
          "metadata": {},
          "execution_count": 52
        }
      ]
    },
    {
      "cell_type": "code",
      "source": [
        "data.head()"
      ],
      "metadata": {
        "colab": {
          "base_uri": "https://localhost:8080/",
          "height": 300
        },
        "id": "IdD7YL0Onp_o",
        "outputId": "fc23f13f-d838-4124-8413-60dd05f61944"
      },
      "execution_count": 53,
      "outputs": [
        {
          "output_type": "execute_result",
          "data": {
            "text/plain": [
              "   MEMBER_NO   FFP_DATE FIRST_FLIGHT_DATE  GENDER  FFP_TIER     WORK_CITY  \\\n",
              "0      27355  9/19/2011          6/2/2012    Male         4       nanjing   \n",
              "1       4032  9/18/2012         9/18/2012  Female         4  changchunshi   \n",
              "2      12913  3/18/2009         3/18/2009    Male         4       beijing   \n",
              "3      58465   9/6/2012         10/3/2012    Male         4       shantou   \n",
              "4      45414  6/13/2012          9/6/2012    Male         4     guangzhou   \n",
              "\n",
              "  WORK_PROVINCE WORK_COUNTRY   AGE  LOAD_TIME  ...  SUM_YR_2  SEG_KM_SUM  \\\n",
              "0       jiangsu           CN  29.0  3/31/2014  ...       0.0        2005   \n",
              "1    jilinsheng           CN  43.0  3/31/2014  ...     984.0        2301   \n",
              "2       beijing           CN  31.0  3/31/2014  ...       0.0        2397   \n",
              "3     guangdong           CN  30.0  3/31/2014  ...     485.0        2852   \n",
              "4     guangdong           CN  40.0  3/31/2014  ...     442.0        3777   \n",
              "\n",
              "   LAST_FLIGHT_DATE  LAST_TO_END  AVG_INTERVAL MAX_INTERVAL  EXCHANGE_COUNT  \\\n",
              "0         9/30/2012          549         120.0          120               0   \n",
              "1          2/4/2014           57         252.0          477               0   \n",
              "2         3/13/2013          385         115.5          167               0   \n",
              "3         6/18/2013          288          86.0          174               0   \n",
              "4         2/25/2014           36         268.5          536               0   \n",
              "\n",
              "   avg_discount  Points_Sum  Point_NotFlight  \n",
              "0      1.000000        2879                6  \n",
              "1      0.871291        1731                0  \n",
              "2      0.836358        1626                0  \n",
              "3      0.702924        1786                0  \n",
              "4      0.530725        3639               22  \n",
              "\n",
              "[5 rows x 23 columns]"
            ],
            "text/html": [
              "\n",
              "  <div id=\"df-0be79e7f-87b1-494a-a4c6-a135154dced3\">\n",
              "    <div class=\"colab-df-container\">\n",
              "      <div>\n",
              "<style scoped>\n",
              "    .dataframe tbody tr th:only-of-type {\n",
              "        vertical-align: middle;\n",
              "    }\n",
              "\n",
              "    .dataframe tbody tr th {\n",
              "        vertical-align: top;\n",
              "    }\n",
              "\n",
              "    .dataframe thead th {\n",
              "        text-align: right;\n",
              "    }\n",
              "</style>\n",
              "<table border=\"1\" class=\"dataframe\">\n",
              "  <thead>\n",
              "    <tr style=\"text-align: right;\">\n",
              "      <th></th>\n",
              "      <th>MEMBER_NO</th>\n",
              "      <th>FFP_DATE</th>\n",
              "      <th>FIRST_FLIGHT_DATE</th>\n",
              "      <th>GENDER</th>\n",
              "      <th>FFP_TIER</th>\n",
              "      <th>WORK_CITY</th>\n",
              "      <th>WORK_PROVINCE</th>\n",
              "      <th>WORK_COUNTRY</th>\n",
              "      <th>AGE</th>\n",
              "      <th>LOAD_TIME</th>\n",
              "      <th>...</th>\n",
              "      <th>SUM_YR_2</th>\n",
              "      <th>SEG_KM_SUM</th>\n",
              "      <th>LAST_FLIGHT_DATE</th>\n",
              "      <th>LAST_TO_END</th>\n",
              "      <th>AVG_INTERVAL</th>\n",
              "      <th>MAX_INTERVAL</th>\n",
              "      <th>EXCHANGE_COUNT</th>\n",
              "      <th>avg_discount</th>\n",
              "      <th>Points_Sum</th>\n",
              "      <th>Point_NotFlight</th>\n",
              "    </tr>\n",
              "  </thead>\n",
              "  <tbody>\n",
              "    <tr>\n",
              "      <th>0</th>\n",
              "      <td>27355</td>\n",
              "      <td>9/19/2011</td>\n",
              "      <td>6/2/2012</td>\n",
              "      <td>Male</td>\n",
              "      <td>4</td>\n",
              "      <td>nanjing</td>\n",
              "      <td>jiangsu</td>\n",
              "      <td>CN</td>\n",
              "      <td>29.0</td>\n",
              "      <td>3/31/2014</td>\n",
              "      <td>...</td>\n",
              "      <td>0.0</td>\n",
              "      <td>2005</td>\n",
              "      <td>9/30/2012</td>\n",
              "      <td>549</td>\n",
              "      <td>120.0</td>\n",
              "      <td>120</td>\n",
              "      <td>0</td>\n",
              "      <td>1.000000</td>\n",
              "      <td>2879</td>\n",
              "      <td>6</td>\n",
              "    </tr>\n",
              "    <tr>\n",
              "      <th>1</th>\n",
              "      <td>4032</td>\n",
              "      <td>9/18/2012</td>\n",
              "      <td>9/18/2012</td>\n",
              "      <td>Female</td>\n",
              "      <td>4</td>\n",
              "      <td>changchunshi</td>\n",
              "      <td>jilinsheng</td>\n",
              "      <td>CN</td>\n",
              "      <td>43.0</td>\n",
              "      <td>3/31/2014</td>\n",
              "      <td>...</td>\n",
              "      <td>984.0</td>\n",
              "      <td>2301</td>\n",
              "      <td>2/4/2014</td>\n",
              "      <td>57</td>\n",
              "      <td>252.0</td>\n",
              "      <td>477</td>\n",
              "      <td>0</td>\n",
              "      <td>0.871291</td>\n",
              "      <td>1731</td>\n",
              "      <td>0</td>\n",
              "    </tr>\n",
              "    <tr>\n",
              "      <th>2</th>\n",
              "      <td>12913</td>\n",
              "      <td>3/18/2009</td>\n",
              "      <td>3/18/2009</td>\n",
              "      <td>Male</td>\n",
              "      <td>4</td>\n",
              "      <td>beijing</td>\n",
              "      <td>beijing</td>\n",
              "      <td>CN</td>\n",
              "      <td>31.0</td>\n",
              "      <td>3/31/2014</td>\n",
              "      <td>...</td>\n",
              "      <td>0.0</td>\n",
              "      <td>2397</td>\n",
              "      <td>3/13/2013</td>\n",
              "      <td>385</td>\n",
              "      <td>115.5</td>\n",
              "      <td>167</td>\n",
              "      <td>0</td>\n",
              "      <td>0.836358</td>\n",
              "      <td>1626</td>\n",
              "      <td>0</td>\n",
              "    </tr>\n",
              "    <tr>\n",
              "      <th>3</th>\n",
              "      <td>58465</td>\n",
              "      <td>9/6/2012</td>\n",
              "      <td>10/3/2012</td>\n",
              "      <td>Male</td>\n",
              "      <td>4</td>\n",
              "      <td>shantou</td>\n",
              "      <td>guangdong</td>\n",
              "      <td>CN</td>\n",
              "      <td>30.0</td>\n",
              "      <td>3/31/2014</td>\n",
              "      <td>...</td>\n",
              "      <td>485.0</td>\n",
              "      <td>2852</td>\n",
              "      <td>6/18/2013</td>\n",
              "      <td>288</td>\n",
              "      <td>86.0</td>\n",
              "      <td>174</td>\n",
              "      <td>0</td>\n",
              "      <td>0.702924</td>\n",
              "      <td>1786</td>\n",
              "      <td>0</td>\n",
              "    </tr>\n",
              "    <tr>\n",
              "      <th>4</th>\n",
              "      <td>45414</td>\n",
              "      <td>6/13/2012</td>\n",
              "      <td>9/6/2012</td>\n",
              "      <td>Male</td>\n",
              "      <td>4</td>\n",
              "      <td>guangzhou</td>\n",
              "      <td>guangdong</td>\n",
              "      <td>CN</td>\n",
              "      <td>40.0</td>\n",
              "      <td>3/31/2014</td>\n",
              "      <td>...</td>\n",
              "      <td>442.0</td>\n",
              "      <td>3777</td>\n",
              "      <td>2/25/2014</td>\n",
              "      <td>36</td>\n",
              "      <td>268.5</td>\n",
              "      <td>536</td>\n",
              "      <td>0</td>\n",
              "      <td>0.530725</td>\n",
              "      <td>3639</td>\n",
              "      <td>22</td>\n",
              "    </tr>\n",
              "  </tbody>\n",
              "</table>\n",
              "<p>5 rows × 23 columns</p>\n",
              "</div>\n",
              "      <button class=\"colab-df-convert\" onclick=\"convertToInteractive('df-0be79e7f-87b1-494a-a4c6-a135154dced3')\"\n",
              "              title=\"Convert this dataframe to an interactive table.\"\n",
              "              style=\"display:none;\">\n",
              "        \n",
              "  <svg xmlns=\"http://www.w3.org/2000/svg\" height=\"24px\"viewBox=\"0 0 24 24\"\n",
              "       width=\"24px\">\n",
              "    <path d=\"M0 0h24v24H0V0z\" fill=\"none\"/>\n",
              "    <path d=\"M18.56 5.44l.94 2.06.94-2.06 2.06-.94-2.06-.94-.94-2.06-.94 2.06-2.06.94zm-11 1L8.5 8.5l.94-2.06 2.06-.94-2.06-.94L8.5 2.5l-.94 2.06-2.06.94zm10 10l.94 2.06.94-2.06 2.06-.94-2.06-.94-.94-2.06-.94 2.06-2.06.94z\"/><path d=\"M17.41 7.96l-1.37-1.37c-.4-.4-.92-.59-1.43-.59-.52 0-1.04.2-1.43.59L10.3 9.45l-7.72 7.72c-.78.78-.78 2.05 0 2.83L4 21.41c.39.39.9.59 1.41.59.51 0 1.02-.2 1.41-.59l7.78-7.78 2.81-2.81c.8-.78.8-2.07 0-2.86zM5.41 20L4 18.59l7.72-7.72 1.47 1.35L5.41 20z\"/>\n",
              "  </svg>\n",
              "      </button>\n",
              "      \n",
              "  <style>\n",
              "    .colab-df-container {\n",
              "      display:flex;\n",
              "      flex-wrap:wrap;\n",
              "      gap: 12px;\n",
              "    }\n",
              "\n",
              "    .colab-df-convert {\n",
              "      background-color: #E8F0FE;\n",
              "      border: none;\n",
              "      border-radius: 50%;\n",
              "      cursor: pointer;\n",
              "      display: none;\n",
              "      fill: #1967D2;\n",
              "      height: 32px;\n",
              "      padding: 0 0 0 0;\n",
              "      width: 32px;\n",
              "    }\n",
              "\n",
              "    .colab-df-convert:hover {\n",
              "      background-color: #E2EBFA;\n",
              "      box-shadow: 0px 1px 2px rgba(60, 64, 67, 0.3), 0px 1px 3px 1px rgba(60, 64, 67, 0.15);\n",
              "      fill: #174EA6;\n",
              "    }\n",
              "\n",
              "    [theme=dark] .colab-df-convert {\n",
              "      background-color: #3B4455;\n",
              "      fill: #D2E3FC;\n",
              "    }\n",
              "\n",
              "    [theme=dark] .colab-df-convert:hover {\n",
              "      background-color: #434B5C;\n",
              "      box-shadow: 0px 1px 3px 1px rgba(0, 0, 0, 0.15);\n",
              "      filter: drop-shadow(0px 1px 2px rgba(0, 0, 0, 0.3));\n",
              "      fill: #FFFFFF;\n",
              "    }\n",
              "  </style>\n",
              "\n",
              "      <script>\n",
              "        const buttonEl =\n",
              "          document.querySelector('#df-0be79e7f-87b1-494a-a4c6-a135154dced3 button.colab-df-convert');\n",
              "        buttonEl.style.display =\n",
              "          google.colab.kernel.accessAllowed ? 'block' : 'none';\n",
              "\n",
              "        async function convertToInteractive(key) {\n",
              "          const element = document.querySelector('#df-0be79e7f-87b1-494a-a4c6-a135154dced3');\n",
              "          const dataTable =\n",
              "            await google.colab.kernel.invokeFunction('convertToInteractive',\n",
              "                                                     [key], {});\n",
              "          if (!dataTable) return;\n",
              "\n",
              "          const docLinkHtml = 'Like what you see? Visit the ' +\n",
              "            '<a target=\"_blank\" href=https://colab.research.google.com/notebooks/data_table.ipynb>data table notebook</a>'\n",
              "            + ' to learn more about interactive tables.';\n",
              "          element.innerHTML = '';\n",
              "          dataTable['output_type'] = 'display_data';\n",
              "          await google.colab.output.renderOutput(dataTable, element);\n",
              "          const docLink = document.createElement('div');\n",
              "          docLink.innerHTML = docLinkHtml;\n",
              "          element.appendChild(docLink);\n",
              "        }\n",
              "      </script>\n",
              "    </div>\n",
              "  </div>\n",
              "  "
            ]
          },
          "metadata": {},
          "execution_count": 53
        }
      ]
    },
    {
      "cell_type": "code",
      "source": [
        "data.info()"
      ],
      "metadata": {
        "colab": {
          "base_uri": "https://localhost:8080/"
        },
        "id": "5DaoJHDDnqBb",
        "outputId": "d6f72801-d69c-40c4-b9a3-93c27f83a3a5"
      },
      "execution_count": 54,
      "outputs": [
        {
          "output_type": "stream",
          "name": "stdout",
          "text": [
            "<class 'pandas.core.frame.DataFrame'>\n",
            "RangeIndex: 7988 entries, 0 to 7987\n",
            "Data columns (total 23 columns):\n",
            " #   Column             Non-Null Count  Dtype  \n",
            "---  ------             --------------  -----  \n",
            " 0   MEMBER_NO          7988 non-null   int64  \n",
            " 1   FFP_DATE           7988 non-null   object \n",
            " 2   FIRST_FLIGHT_DATE  7988 non-null   object \n",
            " 3   GENDER             7988 non-null   object \n",
            " 4   FFP_TIER           7988 non-null   int64  \n",
            " 5   WORK_CITY          7685 non-null   object \n",
            " 6   WORK_PROVINCE      7524 non-null   object \n",
            " 7   WORK_COUNTRY       7982 non-null   object \n",
            " 8   AGE                7910 non-null   float64\n",
            " 9   LOAD_TIME          7988 non-null   object \n",
            " 10  FLIGHT_COUNT       7988 non-null   int64  \n",
            " 11  BP_SUM             7988 non-null   int64  \n",
            " 12  SUM_YR_1           7699 non-null   float64\n",
            " 13  SUM_YR_2           7913 non-null   float64\n",
            " 14  SEG_KM_SUM         7988 non-null   int64  \n",
            " 15  LAST_FLIGHT_DATE   7988 non-null   object \n",
            " 16  LAST_TO_END        7988 non-null   int64  \n",
            " 17  AVG_INTERVAL       7988 non-null   float64\n",
            " 18  MAX_INTERVAL       7988 non-null   int64  \n",
            " 19  EXCHANGE_COUNT     7988 non-null   int64  \n",
            " 20  avg_discount       7988 non-null   float64\n",
            " 21  Points_Sum         7988 non-null   int64  \n",
            " 22  Point_NotFlight    7988 non-null   int64  \n",
            "dtypes: float64(5), int64(10), object(8)\n",
            "memory usage: 1.4+ MB\n"
          ]
        }
      ]
    },
    {
      "cell_type": "code",
      "source": [
        "data.describe().style.background_gradient()"
      ],
      "metadata": {
        "colab": {
          "base_uri": "https://localhost:8080/",
          "height": 320
        },
        "id": "ucN6zZ1JnqFW",
        "outputId": "8e597cb3-5399-4177-c51e-56844ce52170"
      },
      "execution_count": 55,
      "outputs": [
        {
          "output_type": "execute_result",
          "data": {
            "text/plain": [
              "<pandas.io.formats.style.Styler at 0x7f3a15bbff90>"
            ],
            "text/html": [
              "<style type=\"text/css\">\n",
              "#T_a40e4_row0_col0, #T_a40e4_row1_col4, #T_a40e4_row5_col4 {\n",
              "  background-color: #ece7f2;\n",
              "  color: #000000;\n",
              "}\n",
              "#T_a40e4_row0_col1, #T_a40e4_row0_col2, #T_a40e4_row0_col3, #T_a40e4_row0_col4, #T_a40e4_row0_col5, #T_a40e4_row0_col6, #T_a40e4_row0_col7, #T_a40e4_row0_col8, #T_a40e4_row0_col9, #T_a40e4_row0_col10, #T_a40e4_row0_col11, #T_a40e4_row0_col12, #T_a40e4_row0_col14, #T_a40e4_row7_col0, #T_a40e4_row7_col7, #T_a40e4_row7_col13 {\n",
              "  background-color: #023858;\n",
              "  color: #f1f1f1;\n",
              "}\n",
              "#T_a40e4_row0_col13, #T_a40e4_row7_col2, #T_a40e4_row7_col14 {\n",
              "  background-color: #fef6fa;\n",
              "  color: #000000;\n",
              "}\n",
              "#T_a40e4_row1_col0, #T_a40e4_row5_col0 {\n",
              "  background-color: #76aad0;\n",
              "  color: #f1f1f1;\n",
              "}\n",
              "#T_a40e4_row1_col1, #T_a40e4_row1_col3, #T_a40e4_row1_col11, #T_a40e4_row1_col12, #T_a40e4_row1_col13, #T_a40e4_row1_col14, #T_a40e4_row2_col1, #T_a40e4_row2_col2, #T_a40e4_row2_col3, #T_a40e4_row2_col11, #T_a40e4_row2_col12, #T_a40e4_row2_col14, #T_a40e4_row3_col0, #T_a40e4_row3_col1, #T_a40e4_row3_col2, #T_a40e4_row3_col3, #T_a40e4_row3_col4, #T_a40e4_row3_col5, #T_a40e4_row3_col6, #T_a40e4_row3_col7, #T_a40e4_row3_col8, #T_a40e4_row3_col9, #T_a40e4_row3_col10, #T_a40e4_row3_col11, #T_a40e4_row3_col12, #T_a40e4_row3_col13, #T_a40e4_row3_col14, #T_a40e4_row4_col1, #T_a40e4_row4_col2, #T_a40e4_row4_col3, #T_a40e4_row4_col5, #T_a40e4_row4_col6, #T_a40e4_row4_col9, #T_a40e4_row4_col10, #T_a40e4_row4_col11, #T_a40e4_row4_col12, #T_a40e4_row4_col13, #T_a40e4_row4_col14, #T_a40e4_row5_col1, #T_a40e4_row5_col2, #T_a40e4_row5_col3, #T_a40e4_row5_col11, #T_a40e4_row5_col12, #T_a40e4_row5_col13, #T_a40e4_row5_col14, #T_a40e4_row6_col1, #T_a40e4_row6_col3, #T_a40e4_row6_col11, #T_a40e4_row6_col12, #T_a40e4_row6_col13, #T_a40e4_row6_col14, #T_a40e4_row7_col1, #T_a40e4_row7_col3, #T_a40e4_row7_col11, #T_a40e4_row7_col12 {\n",
              "  background-color: #fff7fb;\n",
              "  color: #000000;\n",
              "}\n",
              "#T_a40e4_row1_col2, #T_a40e4_row5_col9, #T_a40e4_row5_col10, #T_a40e4_row6_col2 {\n",
              "  background-color: #fef6fb;\n",
              "  color: #000000;\n",
              "}\n",
              "#T_a40e4_row1_col5 {\n",
              "  background-color: #f0eaf4;\n",
              "  color: #000000;\n",
              "}\n",
              "#T_a40e4_row1_col6 {\n",
              "  background-color: #f4edf6;\n",
              "  color: #000000;\n",
              "}\n",
              "#T_a40e4_row1_col7 {\n",
              "  background-color: #c9cee4;\n",
              "  color: #000000;\n",
              "}\n",
              "#T_a40e4_row1_col8 {\n",
              "  background-color: #f9f2f8;\n",
              "  color: #000000;\n",
              "}\n",
              "#T_a40e4_row1_col9, #T_a40e4_row1_col10, #T_a40e4_row2_col9, #T_a40e4_row2_col10, #T_a40e4_row2_col13, #T_a40e4_row4_col8, #T_a40e4_row6_col9 {\n",
              "  background-color: #fdf5fa;\n",
              "  color: #000000;\n",
              "}\n",
              "#T_a40e4_row2_col0 {\n",
              "  background-color: #c2cbe2;\n",
              "  color: #000000;\n",
              "}\n",
              "#T_a40e4_row2_col4 {\n",
              "  background-color: #f5eff6;\n",
              "  color: #000000;\n",
              "}\n",
              "#T_a40e4_row2_col5 {\n",
              "  background-color: #f1ebf4;\n",
              "  color: #000000;\n",
              "}\n",
              "#T_a40e4_row2_col6, #T_a40e4_row4_col4, #T_a40e4_row5_col5 {\n",
              "  background-color: #f2ecf5;\n",
              "  color: #000000;\n",
              "}\n",
              "#T_a40e4_row2_col7 {\n",
              "  background-color: #f3edf5;\n",
              "  color: #000000;\n",
              "}\n",
              "#T_a40e4_row2_col8, #T_a40e4_row6_col10 {\n",
              "  background-color: #fbf4f9;\n",
              "  color: #000000;\n",
              "}\n",
              "#T_a40e4_row4_col0 {\n",
              "  background-color: #d2d2e7;\n",
              "  color: #000000;\n",
              "}\n",
              "#T_a40e4_row4_col7 {\n",
              "  background-color: #e0dded;\n",
              "  color: #000000;\n",
              "}\n",
              "#T_a40e4_row5_col6 {\n",
              "  background-color: #f7f0f7;\n",
              "  color: #000000;\n",
              "}\n",
              "#T_a40e4_row5_col7 {\n",
              "  background-color: #d0d1e6;\n",
              "  color: #000000;\n",
              "}\n",
              "#T_a40e4_row5_col8 {\n",
              "  background-color: #faf2f8;\n",
              "  color: #000000;\n",
              "}\n",
              "#T_a40e4_row6_col0 {\n",
              "  background-color: #0771b1;\n",
              "  color: #f1f1f1;\n",
              "}\n",
              "#T_a40e4_row6_col4 {\n",
              "  background-color: #e1dfed;\n",
              "  color: #000000;\n",
              "}\n",
              "#T_a40e4_row6_col5 {\n",
              "  background-color: #e3e0ee;\n",
              "  color: #000000;\n",
              "}\n",
              "#T_a40e4_row6_col6 {\n",
              "  background-color: #e9e5f1;\n",
              "  color: #000000;\n",
              "}\n",
              "#T_a40e4_row6_col7 {\n",
              "  background-color: #b4c4df;\n",
              "  color: #000000;\n",
              "}\n",
              "#T_a40e4_row6_col8 {\n",
              "  background-color: #f6eff7;\n",
              "  color: #000000;\n",
              "}\n",
              "#T_a40e4_row7_col4 {\n",
              "  background-color: #73a9cf;\n",
              "  color: #f1f1f1;\n",
              "}\n",
              "#T_a40e4_row7_col5 {\n",
              "  background-color: #034c78;\n",
              "  color: #f1f1f1;\n",
              "}\n",
              "#T_a40e4_row7_col6 {\n",
              "  background-color: #1c7fb8;\n",
              "  color: #f1f1f1;\n",
              "}\n",
              "#T_a40e4_row7_col8, #T_a40e4_row7_col9, #T_a40e4_row7_col10 {\n",
              "  background-color: #f1ebf5;\n",
              "  color: #000000;\n",
              "}\n",
              "</style>\n",
              "<table id=\"T_a40e4_\" class=\"dataframe\">\n",
              "  <thead>\n",
              "    <tr>\n",
              "      <th class=\"blank level0\" >&nbsp;</th>\n",
              "      <th class=\"col_heading level0 col0\" >MEMBER_NO</th>\n",
              "      <th class=\"col_heading level0 col1\" >FFP_TIER</th>\n",
              "      <th class=\"col_heading level0 col2\" >AGE</th>\n",
              "      <th class=\"col_heading level0 col3\" >FLIGHT_COUNT</th>\n",
              "      <th class=\"col_heading level0 col4\" >BP_SUM</th>\n",
              "      <th class=\"col_heading level0 col5\" >SUM_YR_1</th>\n",
              "      <th class=\"col_heading level0 col6\" >SUM_YR_2</th>\n",
              "      <th class=\"col_heading level0 col7\" >SEG_KM_SUM</th>\n",
              "      <th class=\"col_heading level0 col8\" >LAST_TO_END</th>\n",
              "      <th class=\"col_heading level0 col9\" >AVG_INTERVAL</th>\n",
              "      <th class=\"col_heading level0 col10\" >MAX_INTERVAL</th>\n",
              "      <th class=\"col_heading level0 col11\" >EXCHANGE_COUNT</th>\n",
              "      <th class=\"col_heading level0 col12\" >avg_discount</th>\n",
              "      <th class=\"col_heading level0 col13\" >Points_Sum</th>\n",
              "      <th class=\"col_heading level0 col14\" >Point_NotFlight</th>\n",
              "    </tr>\n",
              "  </thead>\n",
              "  <tbody>\n",
              "    <tr>\n",
              "      <th id=\"T_a40e4_level0_row0\" class=\"row_heading level0 row0\" >count</th>\n",
              "      <td id=\"T_a40e4_row0_col0\" class=\"data row0 col0\" >7988.000000</td>\n",
              "      <td id=\"T_a40e4_row0_col1\" class=\"data row0 col1\" >7988.000000</td>\n",
              "      <td id=\"T_a40e4_row0_col2\" class=\"data row0 col2\" >7910.000000</td>\n",
              "      <td id=\"T_a40e4_row0_col3\" class=\"data row0 col3\" >7988.000000</td>\n",
              "      <td id=\"T_a40e4_row0_col4\" class=\"data row0 col4\" >7988.000000</td>\n",
              "      <td id=\"T_a40e4_row0_col5\" class=\"data row0 col5\" >7699.000000</td>\n",
              "      <td id=\"T_a40e4_row0_col6\" class=\"data row0 col6\" >7913.000000</td>\n",
              "      <td id=\"T_a40e4_row0_col7\" class=\"data row0 col7\" >7988.000000</td>\n",
              "      <td id=\"T_a40e4_row0_col8\" class=\"data row0 col8\" >7988.000000</td>\n",
              "      <td id=\"T_a40e4_row0_col9\" class=\"data row0 col9\" >7988.000000</td>\n",
              "      <td id=\"T_a40e4_row0_col10\" class=\"data row0 col10\" >7988.000000</td>\n",
              "      <td id=\"T_a40e4_row0_col11\" class=\"data row0 col11\" >7988.000000</td>\n",
              "      <td id=\"T_a40e4_row0_col12\" class=\"data row0 col12\" >7988.000000</td>\n",
              "      <td id=\"T_a40e4_row0_col13\" class=\"data row0 col13\" >7988.000000</td>\n",
              "      <td id=\"T_a40e4_row0_col14\" class=\"data row0 col14\" >7988.000000</td>\n",
              "    </tr>\n",
              "    <tr>\n",
              "      <th id=\"T_a40e4_level0_row1\" class=\"row_heading level0 row1\" >mean</th>\n",
              "      <td id=\"T_a40e4_row1_col0\" class=\"data row1 col0\" >31114.380696</td>\n",
              "      <td id=\"T_a40e4_row1_col1\" class=\"data row1 col1\" >4.008763</td>\n",
              "      <td id=\"T_a40e4_row1_col2\" class=\"data row1 col2\" >40.890898</td>\n",
              "      <td id=\"T_a40e4_row1_col3\" class=\"data row1 col3\" >2.378192</td>\n",
              "      <td id=\"T_a40e4_row1_col4\" class=\"data row1 col4\" >1028.221582</td>\n",
              "      <td id=\"T_a40e4_row1_col5\" class=\"data row1 col5\" >753.949474</td>\n",
              "      <td id=\"T_a40e4_row1_col6\" class=\"data row1 col6\" >594.095286</td>\n",
              "      <td id=\"T_a40e4_row1_col7\" class=\"data row1 col7\" >2438.785303</td>\n",
              "      <td id=\"T_a40e4_row1_col8\" class=\"data row1 col8\" >317.452929</td>\n",
              "      <td id=\"T_a40e4_row1_col9\" class=\"data row1 col9\" >100.593881</td>\n",
              "      <td id=\"T_a40e4_row1_col10\" class=\"data row1 col10\" >123.566224</td>\n",
              "      <td id=\"T_a40e4_row1_col11\" class=\"data row1 col11\" >0.030921</td>\n",
              "      <td id=\"T_a40e4_row1_col12\" class=\"data row1 col12\" >0.616935</td>\n",
              "      <td id=\"T_a40e4_row1_col13\" class=\"data row1 col13\" >1828.828117</td>\n",
              "      <td id=\"T_a40e4_row1_col14\" class=\"data row1 col14\" >2.047071</td>\n",
              "    </tr>\n",
              "    <tr>\n",
              "      <th id=\"T_a40e4_level0_row2\" class=\"row_heading level0 row2\" >std</th>\n",
              "      <td id=\"T_a40e4_row2_col0\" class=\"data row2 col0\" >18222.504374</td>\n",
              "      <td id=\"T_a40e4_row2_col1\" class=\"data row2 col1\" >0.121232</td>\n",
              "      <td id=\"T_a40e4_row2_col2\" class=\"data row2 col2\" >10.297563</td>\n",
              "      <td id=\"T_a40e4_row2_col3\" class=\"data row2 col3\" >0.750483</td>\n",
              "      <td id=\"T_a40e4_row2_col4\" class=\"data row2 col4\" >514.824691</td>\n",
              "      <td id=\"T_a40e4_row2_col5\" class=\"data row2 col5\" >740.429594</td>\n",
              "      <td id=\"T_a40e4_row2_col6\" class=\"data row2 col6\" >657.696886</td>\n",
              "      <td id=\"T_a40e4_row2_col7\" class=\"data row2 col7\" >990.760396</td>\n",
              "      <td id=\"T_a40e4_row2_col8\" class=\"data row2 col8\" >211.237247</td>\n",
              "      <td id=\"T_a40e4_row2_col9\" class=\"data row2 col9\" >132.284864</td>\n",
              "      <td id=\"T_a40e4_row2_col10\" class=\"data row2 col10\" >152.106381</td>\n",
              "      <td id=\"T_a40e4_row2_col11\" class=\"data row2 col11\" >0.365907</td>\n",
              "      <td id=\"T_a40e4_row2_col12\" class=\"data row2 col12\" >0.205400</td>\n",
              "      <td id=\"T_a40e4_row2_col13\" class=\"data row2 col13\" >11573.723888</td>\n",
              "      <td id=\"T_a40e4_row2_col14\" class=\"data row2 col14\" >6.091004</td>\n",
              "    </tr>\n",
              "    <tr>\n",
              "      <th id=\"T_a40e4_level0_row3\" class=\"row_heading level0 row3\" >min</th>\n",
              "      <td id=\"T_a40e4_row3_col0\" class=\"data row3 col0\" >7.000000</td>\n",
              "      <td id=\"T_a40e4_row3_col1\" class=\"data row3 col1\" >4.000000</td>\n",
              "      <td id=\"T_a40e4_row3_col2\" class=\"data row3 col2\" >9.000000</td>\n",
              "      <td id=\"T_a40e4_row3_col3\" class=\"data row3 col3\" >2.000000</td>\n",
              "      <td id=\"T_a40e4_row3_col4\" class=\"data row3 col4\" >0.000000</td>\n",
              "      <td id=\"T_a40e4_row3_col5\" class=\"data row3 col5\" >0.000000</td>\n",
              "      <td id=\"T_a40e4_row3_col6\" class=\"data row3 col6\" >0.000000</td>\n",
              "      <td id=\"T_a40e4_row3_col7\" class=\"data row3 col7\" >368.000000</td>\n",
              "      <td id=\"T_a40e4_row3_col8\" class=\"data row3 col8\" >1.000000</td>\n",
              "      <td id=\"T_a40e4_row3_col9\" class=\"data row3 col9\" >0.000000</td>\n",
              "      <td id=\"T_a40e4_row3_col10\" class=\"data row3 col10\" >0.000000</td>\n",
              "      <td id=\"T_a40e4_row3_col11\" class=\"data row3 col11\" >0.000000</td>\n",
              "      <td id=\"T_a40e4_row3_col12\" class=\"data row3 col12\" >0.000000</td>\n",
              "      <td id=\"T_a40e4_row3_col13\" class=\"data row3 col13\" >0.000000</td>\n",
              "      <td id=\"T_a40e4_row3_col14\" class=\"data row3 col14\" >0.000000</td>\n",
              "    </tr>\n",
              "    <tr>\n",
              "      <th id=\"T_a40e4_level0_row4\" class=\"row_heading level0 row4\" >25%</th>\n",
              "      <td id=\"T_a40e4_row4_col0\" class=\"data row4 col0\" >15411.750000</td>\n",
              "      <td id=\"T_a40e4_row4_col1\" class=\"data row4 col1\" >4.000000</td>\n",
              "      <td id=\"T_a40e4_row4_col2\" class=\"data row4 col2\" >33.000000</td>\n",
              "      <td id=\"T_a40e4_row4_col3\" class=\"data row4 col3\" >2.000000</td>\n",
              "      <td id=\"T_a40e4_row4_col4\" class=\"data row4 col4\" >692.000000</td>\n",
              "      <td id=\"T_a40e4_row4_col5\" class=\"data row4 col5\" >0.000000</td>\n",
              "      <td id=\"T_a40e4_row4_col6\" class=\"data row4 col6\" >0.000000</td>\n",
              "      <td id=\"T_a40e4_row4_col7\" class=\"data row4 col7\" >1744.000000</td>\n",
              "      <td id=\"T_a40e4_row4_col8\" class=\"data row4 col8\" >130.000000</td>\n",
              "      <td id=\"T_a40e4_row4_col9\" class=\"data row4 col9\" >5.000000</td>\n",
              "      <td id=\"T_a40e4_row4_col10\" class=\"data row4 col10\" >5.000000</td>\n",
              "      <td id=\"T_a40e4_row4_col11\" class=\"data row4 col11\" >0.000000</td>\n",
              "      <td id=\"T_a40e4_row4_col12\" class=\"data row4 col12\" >0.450000</td>\n",
              "      <td id=\"T_a40e4_row4_col13\" class=\"data row4 col13\" >763.000000</td>\n",
              "      <td id=\"T_a40e4_row4_col14\" class=\"data row4 col14\" >0.000000</td>\n",
              "    </tr>\n",
              "    <tr>\n",
              "      <th id=\"T_a40e4_level0_row5\" class=\"row_heading level0 row5\" >50%</th>\n",
              "      <td id=\"T_a40e4_row5_col0\" class=\"data row5 col0\" >31011.500000</td>\n",
              "      <td id=\"T_a40e4_row5_col1\" class=\"data row5 col1\" >4.000000</td>\n",
              "      <td id=\"T_a40e4_row5_col2\" class=\"data row5 col2\" >39.000000</td>\n",
              "      <td id=\"T_a40e4_row5_col3\" class=\"data row5 col3\" >2.000000</td>\n",
              "      <td id=\"T_a40e4_row5_col4\" class=\"data row5 col4\" >1012.000000</td>\n",
              "      <td id=\"T_a40e4_row5_col5\" class=\"data row5 col5\" >690.000000</td>\n",
              "      <td id=\"T_a40e4_row5_col6\" class=\"data row5 col6\" >462.000000</td>\n",
              "      <td id=\"T_a40e4_row5_col7\" class=\"data row5 col7\" >2293.500000</td>\n",
              "      <td id=\"T_a40e4_row5_col8\" class=\"data row5 col8\" >299.000000</td>\n",
              "      <td id=\"T_a40e4_row5_col9\" class=\"data row5 col9\" >46.000000</td>\n",
              "      <td id=\"T_a40e4_row5_col10\" class=\"data row5 col10\" >58.000000</td>\n",
              "      <td id=\"T_a40e4_row5_col11\" class=\"data row5 col11\" >0.000000</td>\n",
              "      <td id=\"T_a40e4_row5_col12\" class=\"data row5 col12\" >0.601520</td>\n",
              "      <td id=\"T_a40e4_row5_col13\" class=\"data row5 col13\" >1152.500000</td>\n",
              "      <td id=\"T_a40e4_row5_col14\" class=\"data row5 col14\" >0.000000</td>\n",
              "    </tr>\n",
              "    <tr>\n",
              "      <th id=\"T_a40e4_level0_row6\" class=\"row_heading level0 row6\" >75%</th>\n",
              "      <td id=\"T_a40e4_row6_col0\" class=\"data row6 col0\" >46711.500000</td>\n",
              "      <td id=\"T_a40e4_row6_col1\" class=\"data row6 col1\" >4.000000</td>\n",
              "      <td id=\"T_a40e4_row6_col2\" class=\"data row6 col2\" >47.000000</td>\n",
              "      <td id=\"T_a40e4_row6_col3\" class=\"data row6 col3\" >3.000000</td>\n",
              "      <td id=\"T_a40e4_row6_col4\" class=\"data row6 col4\" >1386.000000</td>\n",
              "      <td id=\"T_a40e4_row6_col5\" class=\"data row6 col5\" >1280.000000</td>\n",
              "      <td id=\"T_a40e4_row6_col6\" class=\"data row6 col6\" >1095.000000</td>\n",
              "      <td id=\"T_a40e4_row6_col7\" class=\"data row6 col7\" >2930.000000</td>\n",
              "      <td id=\"T_a40e4_row6_col8\" class=\"data row6 col8\" >497.000000</td>\n",
              "      <td id=\"T_a40e4_row6_col9\" class=\"data row6 col9\" >148.000000</td>\n",
              "      <td id=\"T_a40e4_row6_col10\" class=\"data row6 col10\" >194.000000</td>\n",
              "      <td id=\"T_a40e4_row6_col11\" class=\"data row6 col11\" >0.000000</td>\n",
              "      <td id=\"T_a40e4_row6_col12\" class=\"data row6 col12\" >0.767436</td>\n",
              "      <td id=\"T_a40e4_row6_col13\" class=\"data row6 col13\" >1596.000000</td>\n",
              "      <td id=\"T_a40e4_row6_col14\" class=\"data row6 col14\" >0.000000</td>\n",
              "    </tr>\n",
              "    <tr>\n",
              "      <th id=\"T_a40e4_level0_row7\" class=\"row_heading level0 row7\" >max</th>\n",
              "      <td id=\"T_a40e4_row7_col0\" class=\"data row7 col0\" >62887.000000</td>\n",
              "      <td id=\"T_a40e4_row7_col1\" class=\"data row7 col1\" >6.000000</td>\n",
              "      <td id=\"T_a40e4_row7_col2\" class=\"data row7 col2\" >92.000000</td>\n",
              "      <td id=\"T_a40e4_row7_col3\" class=\"data row7 col3\" >10.000000</td>\n",
              "      <td id=\"T_a40e4_row7_col4\" class=\"data row7 col4\" >4000.000000</td>\n",
              "      <td id=\"T_a40e4_row7_col5\" class=\"data row7 col5\" >7100.000000</td>\n",
              "      <td id=\"T_a40e4_row7_col6\" class=\"data row7 col6\" >5460.000000</td>\n",
              "      <td id=\"T_a40e4_row7_col7\" class=\"data row7 col7\" >8016.000000</td>\n",
              "      <td id=\"T_a40e4_row7_col8\" class=\"data row7 col8\" >731.000000</td>\n",
              "      <td id=\"T_a40e4_row7_col9\" class=\"data row7 col9\" >728.000000</td>\n",
              "      <td id=\"T_a40e4_row7_col10\" class=\"data row7 col10\" >728.000000</td>\n",
              "      <td id=\"T_a40e4_row7_col11\" class=\"data row7 col11\" >22.000000</td>\n",
              "      <td id=\"T_a40e4_row7_col12\" class=\"data row7 col12\" >1.500000</td>\n",
              "      <td id=\"T_a40e4_row7_col13\" class=\"data row7 col13\" >985572.000000</td>\n",
              "      <td id=\"T_a40e4_row7_col14\" class=\"data row7 col14\" >92.000000</td>\n",
              "    </tr>\n",
              "  </tbody>\n",
              "</table>\n"
            ]
          },
          "metadata": {},
          "execution_count": 55
        }
      ]
    },
    {
      "cell_type": "code",
      "source": [
        "#to find missing values\n",
        "data.isnull().sum()"
      ],
      "metadata": {
        "colab": {
          "base_uri": "https://localhost:8080/"
        },
        "id": "zPdE2z1QnqG8",
        "outputId": "e0464de6-4e3f-4ed4-b833-8d6de221c553"
      },
      "execution_count": 56,
      "outputs": [
        {
          "output_type": "execute_result",
          "data": {
            "text/plain": [
              "MEMBER_NO              0\n",
              "FFP_DATE               0\n",
              "FIRST_FLIGHT_DATE      0\n",
              "GENDER                 0\n",
              "FFP_TIER               0\n",
              "WORK_CITY            303\n",
              "WORK_PROVINCE        464\n",
              "WORK_COUNTRY           6\n",
              "AGE                   78\n",
              "LOAD_TIME              0\n",
              "FLIGHT_COUNT           0\n",
              "BP_SUM                 0\n",
              "SUM_YR_1             289\n",
              "SUM_YR_2              75\n",
              "SEG_KM_SUM             0\n",
              "LAST_FLIGHT_DATE       0\n",
              "LAST_TO_END            0\n",
              "AVG_INTERVAL           0\n",
              "MAX_INTERVAL           0\n",
              "EXCHANGE_COUNT         0\n",
              "avg_discount           0\n",
              "Points_Sum             0\n",
              "Point_NotFlight        0\n",
              "dtype: int64"
            ]
          },
          "metadata": {},
          "execution_count": 56
        }
      ]
    },
    {
      "cell_type": "code",
      "source": [
        "#to find is their any null value present\n",
        "data.isnull()"
      ],
      "metadata": {
        "colab": {
          "base_uri": "https://localhost:8080/",
          "height": 488
        },
        "id": "2QEmP3xPnqKt",
        "outputId": "e8f6fb6e-5de8-4484-81b0-9847e0c806ad"
      },
      "execution_count": 57,
      "outputs": [
        {
          "output_type": "execute_result",
          "data": {
            "text/plain": [
              "      MEMBER_NO  FFP_DATE  FIRST_FLIGHT_DATE  GENDER  FFP_TIER  WORK_CITY  \\\n",
              "0         False     False              False   False     False      False   \n",
              "1         False     False              False   False     False      False   \n",
              "2         False     False              False   False     False      False   \n",
              "3         False     False              False   False     False      False   \n",
              "4         False     False              False   False     False      False   \n",
              "...         ...       ...                ...     ...       ...        ...   \n",
              "7983      False     False              False   False     False      False   \n",
              "7984      False     False              False   False     False      False   \n",
              "7985      False     False              False   False     False      False   \n",
              "7986      False     False              False   False     False      False   \n",
              "7987      False     False              False   False     False      False   \n",
              "\n",
              "      WORK_PROVINCE  WORK_COUNTRY    AGE  LOAD_TIME  ...  SUM_YR_2  \\\n",
              "0             False         False  False      False  ...     False   \n",
              "1             False         False  False      False  ...     False   \n",
              "2             False         False  False      False  ...     False   \n",
              "3             False         False  False      False  ...     False   \n",
              "4             False         False  False      False  ...     False   \n",
              "...             ...           ...    ...        ...  ...       ...   \n",
              "7983          False         False  False      False  ...     False   \n",
              "7984          False         False  False      False  ...     False   \n",
              "7985          False         False  False      False  ...     False   \n",
              "7986          False         False  False      False  ...     False   \n",
              "7987          False         False  False      False  ...     False   \n",
              "\n",
              "      SEG_KM_SUM  LAST_FLIGHT_DATE  LAST_TO_END  AVG_INTERVAL  MAX_INTERVAL  \\\n",
              "0          False             False        False         False         False   \n",
              "1          False             False        False         False         False   \n",
              "2          False             False        False         False         False   \n",
              "3          False             False        False         False         False   \n",
              "4          False             False        False         False         False   \n",
              "...          ...               ...          ...           ...           ...   \n",
              "7983       False             False        False         False         False   \n",
              "7984       False             False        False         False         False   \n",
              "7985       False             False        False         False         False   \n",
              "7986       False             False        False         False         False   \n",
              "7987       False             False        False         False         False   \n",
              "\n",
              "      EXCHANGE_COUNT  avg_discount  Points_Sum  Point_NotFlight  \n",
              "0              False         False       False            False  \n",
              "1              False         False       False            False  \n",
              "2              False         False       False            False  \n",
              "3              False         False       False            False  \n",
              "4              False         False       False            False  \n",
              "...              ...           ...         ...              ...  \n",
              "7983           False         False       False            False  \n",
              "7984           False         False       False            False  \n",
              "7985           False         False       False            False  \n",
              "7986           False         False       False            False  \n",
              "7987           False         False       False            False  \n",
              "\n",
              "[7988 rows x 23 columns]"
            ],
            "text/html": [
              "\n",
              "  <div id=\"df-d4145c72-2eb4-4864-824c-a00044a4dc94\">\n",
              "    <div class=\"colab-df-container\">\n",
              "      <div>\n",
              "<style scoped>\n",
              "    .dataframe tbody tr th:only-of-type {\n",
              "        vertical-align: middle;\n",
              "    }\n",
              "\n",
              "    .dataframe tbody tr th {\n",
              "        vertical-align: top;\n",
              "    }\n",
              "\n",
              "    .dataframe thead th {\n",
              "        text-align: right;\n",
              "    }\n",
              "</style>\n",
              "<table border=\"1\" class=\"dataframe\">\n",
              "  <thead>\n",
              "    <tr style=\"text-align: right;\">\n",
              "      <th></th>\n",
              "      <th>MEMBER_NO</th>\n",
              "      <th>FFP_DATE</th>\n",
              "      <th>FIRST_FLIGHT_DATE</th>\n",
              "      <th>GENDER</th>\n",
              "      <th>FFP_TIER</th>\n",
              "      <th>WORK_CITY</th>\n",
              "      <th>WORK_PROVINCE</th>\n",
              "      <th>WORK_COUNTRY</th>\n",
              "      <th>AGE</th>\n",
              "      <th>LOAD_TIME</th>\n",
              "      <th>...</th>\n",
              "      <th>SUM_YR_2</th>\n",
              "      <th>SEG_KM_SUM</th>\n",
              "      <th>LAST_FLIGHT_DATE</th>\n",
              "      <th>LAST_TO_END</th>\n",
              "      <th>AVG_INTERVAL</th>\n",
              "      <th>MAX_INTERVAL</th>\n",
              "      <th>EXCHANGE_COUNT</th>\n",
              "      <th>avg_discount</th>\n",
              "      <th>Points_Sum</th>\n",
              "      <th>Point_NotFlight</th>\n",
              "    </tr>\n",
              "  </thead>\n",
              "  <tbody>\n",
              "    <tr>\n",
              "      <th>0</th>\n",
              "      <td>False</td>\n",
              "      <td>False</td>\n",
              "      <td>False</td>\n",
              "      <td>False</td>\n",
              "      <td>False</td>\n",
              "      <td>False</td>\n",
              "      <td>False</td>\n",
              "      <td>False</td>\n",
              "      <td>False</td>\n",
              "      <td>False</td>\n",
              "      <td>...</td>\n",
              "      <td>False</td>\n",
              "      <td>False</td>\n",
              "      <td>False</td>\n",
              "      <td>False</td>\n",
              "      <td>False</td>\n",
              "      <td>False</td>\n",
              "      <td>False</td>\n",
              "      <td>False</td>\n",
              "      <td>False</td>\n",
              "      <td>False</td>\n",
              "    </tr>\n",
              "    <tr>\n",
              "      <th>1</th>\n",
              "      <td>False</td>\n",
              "      <td>False</td>\n",
              "      <td>False</td>\n",
              "      <td>False</td>\n",
              "      <td>False</td>\n",
              "      <td>False</td>\n",
              "      <td>False</td>\n",
              "      <td>False</td>\n",
              "      <td>False</td>\n",
              "      <td>False</td>\n",
              "      <td>...</td>\n",
              "      <td>False</td>\n",
              "      <td>False</td>\n",
              "      <td>False</td>\n",
              "      <td>False</td>\n",
              "      <td>False</td>\n",
              "      <td>False</td>\n",
              "      <td>False</td>\n",
              "      <td>False</td>\n",
              "      <td>False</td>\n",
              "      <td>False</td>\n",
              "    </tr>\n",
              "    <tr>\n",
              "      <th>2</th>\n",
              "      <td>False</td>\n",
              "      <td>False</td>\n",
              "      <td>False</td>\n",
              "      <td>False</td>\n",
              "      <td>False</td>\n",
              "      <td>False</td>\n",
              "      <td>False</td>\n",
              "      <td>False</td>\n",
              "      <td>False</td>\n",
              "      <td>False</td>\n",
              "      <td>...</td>\n",
              "      <td>False</td>\n",
              "      <td>False</td>\n",
              "      <td>False</td>\n",
              "      <td>False</td>\n",
              "      <td>False</td>\n",
              "      <td>False</td>\n",
              "      <td>False</td>\n",
              "      <td>False</td>\n",
              "      <td>False</td>\n",
              "      <td>False</td>\n",
              "    </tr>\n",
              "    <tr>\n",
              "      <th>3</th>\n",
              "      <td>False</td>\n",
              "      <td>False</td>\n",
              "      <td>False</td>\n",
              "      <td>False</td>\n",
              "      <td>False</td>\n",
              "      <td>False</td>\n",
              "      <td>False</td>\n",
              "      <td>False</td>\n",
              "      <td>False</td>\n",
              "      <td>False</td>\n",
              "      <td>...</td>\n",
              "      <td>False</td>\n",
              "      <td>False</td>\n",
              "      <td>False</td>\n",
              "      <td>False</td>\n",
              "      <td>False</td>\n",
              "      <td>False</td>\n",
              "      <td>False</td>\n",
              "      <td>False</td>\n",
              "      <td>False</td>\n",
              "      <td>False</td>\n",
              "    </tr>\n",
              "    <tr>\n",
              "      <th>4</th>\n",
              "      <td>False</td>\n",
              "      <td>False</td>\n",
              "      <td>False</td>\n",
              "      <td>False</td>\n",
              "      <td>False</td>\n",
              "      <td>False</td>\n",
              "      <td>False</td>\n",
              "      <td>False</td>\n",
              "      <td>False</td>\n",
              "      <td>False</td>\n",
              "      <td>...</td>\n",
              "      <td>False</td>\n",
              "      <td>False</td>\n",
              "      <td>False</td>\n",
              "      <td>False</td>\n",
              "      <td>False</td>\n",
              "      <td>False</td>\n",
              "      <td>False</td>\n",
              "      <td>False</td>\n",
              "      <td>False</td>\n",
              "      <td>False</td>\n",
              "    </tr>\n",
              "    <tr>\n",
              "      <th>...</th>\n",
              "      <td>...</td>\n",
              "      <td>...</td>\n",
              "      <td>...</td>\n",
              "      <td>...</td>\n",
              "      <td>...</td>\n",
              "      <td>...</td>\n",
              "      <td>...</td>\n",
              "      <td>...</td>\n",
              "      <td>...</td>\n",
              "      <td>...</td>\n",
              "      <td>...</td>\n",
              "      <td>...</td>\n",
              "      <td>...</td>\n",
              "      <td>...</td>\n",
              "      <td>...</td>\n",
              "      <td>...</td>\n",
              "      <td>...</td>\n",
              "      <td>...</td>\n",
              "      <td>...</td>\n",
              "      <td>...</td>\n",
              "      <td>...</td>\n",
              "    </tr>\n",
              "    <tr>\n",
              "      <th>7983</th>\n",
              "      <td>False</td>\n",
              "      <td>False</td>\n",
              "      <td>False</td>\n",
              "      <td>False</td>\n",
              "      <td>False</td>\n",
              "      <td>False</td>\n",
              "      <td>False</td>\n",
              "      <td>False</td>\n",
              "      <td>False</td>\n",
              "      <td>False</td>\n",
              "      <td>...</td>\n",
              "      <td>False</td>\n",
              "      <td>False</td>\n",
              "      <td>False</td>\n",
              "      <td>False</td>\n",
              "      <td>False</td>\n",
              "      <td>False</td>\n",
              "      <td>False</td>\n",
              "      <td>False</td>\n",
              "      <td>False</td>\n",
              "      <td>False</td>\n",
              "    </tr>\n",
              "    <tr>\n",
              "      <th>7984</th>\n",
              "      <td>False</td>\n",
              "      <td>False</td>\n",
              "      <td>False</td>\n",
              "      <td>False</td>\n",
              "      <td>False</td>\n",
              "      <td>False</td>\n",
              "      <td>False</td>\n",
              "      <td>False</td>\n",
              "      <td>False</td>\n",
              "      <td>False</td>\n",
              "      <td>...</td>\n",
              "      <td>False</td>\n",
              "      <td>False</td>\n",
              "      <td>False</td>\n",
              "      <td>False</td>\n",
              "      <td>False</td>\n",
              "      <td>False</td>\n",
              "      <td>False</td>\n",
              "      <td>False</td>\n",
              "      <td>False</td>\n",
              "      <td>False</td>\n",
              "    </tr>\n",
              "    <tr>\n",
              "      <th>7985</th>\n",
              "      <td>False</td>\n",
              "      <td>False</td>\n",
              "      <td>False</td>\n",
              "      <td>False</td>\n",
              "      <td>False</td>\n",
              "      <td>False</td>\n",
              "      <td>False</td>\n",
              "      <td>False</td>\n",
              "      <td>False</td>\n",
              "      <td>False</td>\n",
              "      <td>...</td>\n",
              "      <td>False</td>\n",
              "      <td>False</td>\n",
              "      <td>False</td>\n",
              "      <td>False</td>\n",
              "      <td>False</td>\n",
              "      <td>False</td>\n",
              "      <td>False</td>\n",
              "      <td>False</td>\n",
              "      <td>False</td>\n",
              "      <td>False</td>\n",
              "    </tr>\n",
              "    <tr>\n",
              "      <th>7986</th>\n",
              "      <td>False</td>\n",
              "      <td>False</td>\n",
              "      <td>False</td>\n",
              "      <td>False</td>\n",
              "      <td>False</td>\n",
              "      <td>False</td>\n",
              "      <td>False</td>\n",
              "      <td>False</td>\n",
              "      <td>False</td>\n",
              "      <td>False</td>\n",
              "      <td>...</td>\n",
              "      <td>False</td>\n",
              "      <td>False</td>\n",
              "      <td>False</td>\n",
              "      <td>False</td>\n",
              "      <td>False</td>\n",
              "      <td>False</td>\n",
              "      <td>False</td>\n",
              "      <td>False</td>\n",
              "      <td>False</td>\n",
              "      <td>False</td>\n",
              "    </tr>\n",
              "    <tr>\n",
              "      <th>7987</th>\n",
              "      <td>False</td>\n",
              "      <td>False</td>\n",
              "      <td>False</td>\n",
              "      <td>False</td>\n",
              "      <td>False</td>\n",
              "      <td>False</td>\n",
              "      <td>False</td>\n",
              "      <td>False</td>\n",
              "      <td>False</td>\n",
              "      <td>False</td>\n",
              "      <td>...</td>\n",
              "      <td>False</td>\n",
              "      <td>False</td>\n",
              "      <td>False</td>\n",
              "      <td>False</td>\n",
              "      <td>False</td>\n",
              "      <td>False</td>\n",
              "      <td>False</td>\n",
              "      <td>False</td>\n",
              "      <td>False</td>\n",
              "      <td>False</td>\n",
              "    </tr>\n",
              "  </tbody>\n",
              "</table>\n",
              "<p>7988 rows × 23 columns</p>\n",
              "</div>\n",
              "      <button class=\"colab-df-convert\" onclick=\"convertToInteractive('df-d4145c72-2eb4-4864-824c-a00044a4dc94')\"\n",
              "              title=\"Convert this dataframe to an interactive table.\"\n",
              "              style=\"display:none;\">\n",
              "        \n",
              "  <svg xmlns=\"http://www.w3.org/2000/svg\" height=\"24px\"viewBox=\"0 0 24 24\"\n",
              "       width=\"24px\">\n",
              "    <path d=\"M0 0h24v24H0V0z\" fill=\"none\"/>\n",
              "    <path d=\"M18.56 5.44l.94 2.06.94-2.06 2.06-.94-2.06-.94-.94-2.06-.94 2.06-2.06.94zm-11 1L8.5 8.5l.94-2.06 2.06-.94-2.06-.94L8.5 2.5l-.94 2.06-2.06.94zm10 10l.94 2.06.94-2.06 2.06-.94-2.06-.94-.94-2.06-.94 2.06-2.06.94z\"/><path d=\"M17.41 7.96l-1.37-1.37c-.4-.4-.92-.59-1.43-.59-.52 0-1.04.2-1.43.59L10.3 9.45l-7.72 7.72c-.78.78-.78 2.05 0 2.83L4 21.41c.39.39.9.59 1.41.59.51 0 1.02-.2 1.41-.59l7.78-7.78 2.81-2.81c.8-.78.8-2.07 0-2.86zM5.41 20L4 18.59l7.72-7.72 1.47 1.35L5.41 20z\"/>\n",
              "  </svg>\n",
              "      </button>\n",
              "      \n",
              "  <style>\n",
              "    .colab-df-container {\n",
              "      display:flex;\n",
              "      flex-wrap:wrap;\n",
              "      gap: 12px;\n",
              "    }\n",
              "\n",
              "    .colab-df-convert {\n",
              "      background-color: #E8F0FE;\n",
              "      border: none;\n",
              "      border-radius: 50%;\n",
              "      cursor: pointer;\n",
              "      display: none;\n",
              "      fill: #1967D2;\n",
              "      height: 32px;\n",
              "      padding: 0 0 0 0;\n",
              "      width: 32px;\n",
              "    }\n",
              "\n",
              "    .colab-df-convert:hover {\n",
              "      background-color: #E2EBFA;\n",
              "      box-shadow: 0px 1px 2px rgba(60, 64, 67, 0.3), 0px 1px 3px 1px rgba(60, 64, 67, 0.15);\n",
              "      fill: #174EA6;\n",
              "    }\n",
              "\n",
              "    [theme=dark] .colab-df-convert {\n",
              "      background-color: #3B4455;\n",
              "      fill: #D2E3FC;\n",
              "    }\n",
              "\n",
              "    [theme=dark] .colab-df-convert:hover {\n",
              "      background-color: #434B5C;\n",
              "      box-shadow: 0px 1px 3px 1px rgba(0, 0, 0, 0.15);\n",
              "      filter: drop-shadow(0px 1px 2px rgba(0, 0, 0, 0.3));\n",
              "      fill: #FFFFFF;\n",
              "    }\n",
              "  </style>\n",
              "\n",
              "      <script>\n",
              "        const buttonEl =\n",
              "          document.querySelector('#df-d4145c72-2eb4-4864-824c-a00044a4dc94 button.colab-df-convert');\n",
              "        buttonEl.style.display =\n",
              "          google.colab.kernel.accessAllowed ? 'block' : 'none';\n",
              "\n",
              "        async function convertToInteractive(key) {\n",
              "          const element = document.querySelector('#df-d4145c72-2eb4-4864-824c-a00044a4dc94');\n",
              "          const dataTable =\n",
              "            await google.colab.kernel.invokeFunction('convertToInteractive',\n",
              "                                                     [key], {});\n",
              "          if (!dataTable) return;\n",
              "\n",
              "          const docLinkHtml = 'Like what you see? Visit the ' +\n",
              "            '<a target=\"_blank\" href=https://colab.research.google.com/notebooks/data_table.ipynb>data table notebook</a>'\n",
              "            + ' to learn more about interactive tables.';\n",
              "          element.innerHTML = '';\n",
              "          dataTable['output_type'] = 'display_data';\n",
              "          await google.colab.output.renderOutput(dataTable, element);\n",
              "          const docLink = document.createElement('div');\n",
              "          docLink.innerHTML = docLinkHtml;\n",
              "          element.appendChild(docLink);\n",
              "        }\n",
              "      </script>\n",
              "    </div>\n",
              "  </div>\n",
              "  "
            ]
          },
          "metadata": {},
          "execution_count": 57
        }
      ]
    },
    {
      "cell_type": "code",
      "source": [
        "#checking no null is in data\n",
        "data['WORK_CITY'].notnull()"
      ],
      "metadata": {
        "colab": {
          "base_uri": "https://localhost:8080/"
        },
        "id": "MfIxYgBLnqMe",
        "outputId": "0f33fc8a-85a5-46bb-b504-3cffb0167a65"
      },
      "execution_count": 58,
      "outputs": [
        {
          "output_type": "execute_result",
          "data": {
            "text/plain": [
              "0       True\n",
              "1       True\n",
              "2       True\n",
              "3       True\n",
              "4       True\n",
              "        ... \n",
              "7983    True\n",
              "7984    True\n",
              "7985    True\n",
              "7986    True\n",
              "7987    True\n",
              "Name: WORK_CITY, Length: 7988, dtype: bool"
            ]
          },
          "metadata": {},
          "execution_count": 58
        }
      ]
    },
    {
      "cell_type": "code",
      "source": [
        "#comparing to data to check null is not present\n",
        "data['WORK_CITY'].notnull() & data['WORK_PROVINCE'].notnull()"
      ],
      "metadata": {
        "colab": {
          "base_uri": "https://localhost:8080/"
        },
        "id": "D6JQdGMrnqQC",
        "outputId": "53d38f36-dee9-4467-9e97-70f1a9c79927"
      },
      "execution_count": 59,
      "outputs": [
        {
          "output_type": "execute_result",
          "data": {
            "text/plain": [
              "0       True\n",
              "1       True\n",
              "2       True\n",
              "3       True\n",
              "4       True\n",
              "        ... \n",
              "7983    True\n",
              "7984    True\n",
              "7985    True\n",
              "7986    True\n",
              "7987    True\n",
              "Length: 7988, dtype: bool"
            ]
          },
          "metadata": {},
          "execution_count": 59
        }
      ]
    },
    {
      "cell_type": "code",
      "source": [
        "#bu doinh this function we are we are removing not null function missing value from the data\n",
        "data = data[data['WORK_CITY'].notnull() & data['WORK_PROVINCE'].notnull()]"
      ],
      "metadata": {
        "id": "5Nu7BXbunqRr"
      },
      "execution_count": 60,
      "outputs": []
    },
    {
      "cell_type": "code",
      "source": [
        "data.shape"
      ],
      "metadata": {
        "colab": {
          "base_uri": "https://localhost:8080/"
        },
        "id": "u_dlp_efnqVy",
        "outputId": "56ef8713-7ff2-4ab2-bac7-764ff2ccb1e3"
      },
      "execution_count": 61,
      "outputs": [
        {
          "output_type": "execute_result",
          "data": {
            "text/plain": [
              "(7476, 23)"
            ]
          },
          "metadata": {},
          "execution_count": 61
        }
      ]
    },
    {
      "cell_type": "code",
      "source": [
        "data.isnull().sum()"
      ],
      "metadata": {
        "colab": {
          "base_uri": "https://localhost:8080/"
        },
        "id": "D3zohAPenqXb",
        "outputId": "6c9bc410-985c-4fe4-fd81-a325ea2bd6cb"
      },
      "execution_count": 62,
      "outputs": [
        {
          "output_type": "execute_result",
          "data": {
            "text/plain": [
              "MEMBER_NO              0\n",
              "FFP_DATE               0\n",
              "FIRST_FLIGHT_DATE      0\n",
              "GENDER                 0\n",
              "FFP_TIER               0\n",
              "WORK_CITY              0\n",
              "WORK_PROVINCE          0\n",
              "WORK_COUNTRY           0\n",
              "AGE                   55\n",
              "LOAD_TIME              0\n",
              "FLIGHT_COUNT           0\n",
              "BP_SUM                 0\n",
              "SUM_YR_1             279\n",
              "SUM_YR_2              74\n",
              "SEG_KM_SUM             0\n",
              "LAST_FLIGHT_DATE       0\n",
              "LAST_TO_END            0\n",
              "AVG_INTERVAL           0\n",
              "MAX_INTERVAL           0\n",
              "EXCHANGE_COUNT         0\n",
              "avg_discount           0\n",
              "Points_Sum             0\n",
              "Point_NotFlight        0\n",
              "dtype: int64"
            ]
          },
          "metadata": {},
          "execution_count": 62
        }
      ]
    },
    {
      "cell_type": "code",
      "source": [
        "data.notnull().sum()"
      ],
      "metadata": {
        "colab": {
          "base_uri": "https://localhost:8080/"
        },
        "id": "Dzj4jw4FnqbS",
        "outputId": "bb5436eb-3088-4d7b-dc49-d5631fa2f74d"
      },
      "execution_count": 63,
      "outputs": [
        {
          "output_type": "execute_result",
          "data": {
            "text/plain": [
              "MEMBER_NO            7476\n",
              "FFP_DATE             7476\n",
              "FIRST_FLIGHT_DATE    7476\n",
              "GENDER               7476\n",
              "FFP_TIER             7476\n",
              "WORK_CITY            7476\n",
              "WORK_PROVINCE        7476\n",
              "WORK_COUNTRY         7476\n",
              "AGE                  7421\n",
              "LOAD_TIME            7476\n",
              "FLIGHT_COUNT         7476\n",
              "BP_SUM               7476\n",
              "SUM_YR_1             7197\n",
              "SUM_YR_2             7402\n",
              "SEG_KM_SUM           7476\n",
              "LAST_FLIGHT_DATE     7476\n",
              "LAST_TO_END          7476\n",
              "AVG_INTERVAL         7476\n",
              "MAX_INTERVAL         7476\n",
              "EXCHANGE_COUNT       7476\n",
              "avg_discount         7476\n",
              "Points_Sum           7476\n",
              "Point_NotFlight      7476\n",
              "dtype: int64"
            ]
          },
          "metadata": {},
          "execution_count": 63
        }
      ]
    },
    {
      "cell_type": "code",
      "source": [
        "#due to null value present in age we are performing this below operation\n",
        "\n",
        "data['AGE'] = data['AGE'].fillna(data['AGE'].median())"
      ],
      "metadata": {
        "colab": {
          "base_uri": "https://localhost:8080/"
        },
        "id": "I4WLWH8Anqcr",
        "outputId": "50fc4e60-72f7-43c0-f3a8-c04e3171c568"
      },
      "execution_count": 64,
      "outputs": [
        {
          "output_type": "stream",
          "name": "stderr",
          "text": [
            "/usr/local/lib/python3.7/dist-packages/ipykernel_launcher.py:3: SettingWithCopyWarning: \n",
            "A value is trying to be set on a copy of a slice from a DataFrame.\n",
            "Try using .loc[row_indexer,col_indexer] = value instead\n",
            "\n",
            "See the caveats in the documentation: https://pandas.pydata.org/pandas-docs/stable/user_guide/indexing.html#returning-a-view-versus-a-copy\n",
            "  This is separate from the ipykernel package so we can avoid doing imports until\n"
          ]
        }
      ]
    },
    {
      "cell_type": "code",
      "source": [
        "data.isnull().sum()"
      ],
      "metadata": {
        "colab": {
          "base_uri": "https://localhost:8080/"
        },
        "id": "f-u6FR5InqhD",
        "outputId": "54d60129-8f6c-4ce0-8bd9-4120f8cdbe0f"
      },
      "execution_count": 65,
      "outputs": [
        {
          "output_type": "execute_result",
          "data": {
            "text/plain": [
              "MEMBER_NO              0\n",
              "FFP_DATE               0\n",
              "FIRST_FLIGHT_DATE      0\n",
              "GENDER                 0\n",
              "FFP_TIER               0\n",
              "WORK_CITY              0\n",
              "WORK_PROVINCE          0\n",
              "WORK_COUNTRY           0\n",
              "AGE                    0\n",
              "LOAD_TIME              0\n",
              "FLIGHT_COUNT           0\n",
              "BP_SUM                 0\n",
              "SUM_YR_1             279\n",
              "SUM_YR_2              74\n",
              "SEG_KM_SUM             0\n",
              "LAST_FLIGHT_DATE       0\n",
              "LAST_TO_END            0\n",
              "AVG_INTERVAL           0\n",
              "MAX_INTERVAL           0\n",
              "EXCHANGE_COUNT         0\n",
              "avg_discount           0\n",
              "Points_Sum             0\n",
              "Point_NotFlight        0\n",
              "dtype: int64"
            ]
          },
          "metadata": {},
          "execution_count": 65
        }
      ]
    },
    {
      "cell_type": "code",
      "source": [
        "#using interpolate method we are filling the values\n",
        "data['SUM_YR_1'].interpolate(method = 'linear',inplace=True)"
      ],
      "metadata": {
        "colab": {
          "base_uri": "https://localhost:8080/"
        },
        "id": "VhUh7qz_nqii",
        "outputId": "44ee0765-84e6-42b9-d558-c26128d63260"
      },
      "execution_count": 66,
      "outputs": [
        {
          "output_type": "stream",
          "name": "stderr",
          "text": [
            "/usr/local/lib/python3.7/dist-packages/pandas/core/generic.py:6915: SettingWithCopyWarning: \n",
            "A value is trying to be set on a copy of a slice from a DataFrame\n",
            "\n",
            "See the caveats in the documentation: https://pandas.pydata.org/pandas-docs/stable/user_guide/indexing.html#returning-a-view-versus-a-copy\n",
            "  return self._update_inplace(result)\n"
          ]
        }
      ]
    },
    {
      "cell_type": "code",
      "source": [
        "data[data['SUM_YR_2'].isnull()]"
      ],
      "metadata": {
        "colab": {
          "base_uri": "https://localhost:8080/",
          "height": 488
        },
        "id": "wrC1OCT0nql6",
        "outputId": "53e6f5cb-4c2e-4bc2-d0d8-3b3f42439ec4"
      },
      "execution_count": 67,
      "outputs": [
        {
          "output_type": "execute_result",
          "data": {
            "text/plain": [
              "      MEMBER_NO   FFP_DATE FIRST_FLIGHT_DATE  GENDER  FFP_TIER  WORK_CITY  \\\n",
              "140        7780  2/20/2011         4/11/2011    Male         4  changchun   \n",
              "386       34533  6/25/2010         6/26/2010    Male         4   liaoyang   \n",
              "412        4115   8/9/2010          3/6/2012    Male         4     zhuhai   \n",
              "445       47043  3/21/2013        11/13/2013    Male         4   shanghai   \n",
              "564       38758   4/4/2008         9/24/2008    Male         4   dongguan   \n",
              "...         ...        ...               ...     ...       ...        ...   \n",
              "7824      27287   2/8/2011        10/15/2013  Female         4      wuhan   \n",
              "7825      45539  2/15/2013          7/3/2013  Female         4   wuhanshi   \n",
              "7842      10325  9/20/2009         9/20/2009    Male         4     yining   \n",
              "7914      21610  3/24/2010         3/24/2010    Male         4   shanghai   \n",
              "7915      26421  6/14/2010         6/14/2010    Male         4     kuerle   \n",
              "\n",
              "       WORK_PROVINCE WORK_COUNTRY   AGE  LOAD_TIME  ...  SUM_YR_2  SEG_KM_SUM  \\\n",
              "140       jilinsheng           CN  38.0  3/31/2014  ...       NaN        3385   \n",
              "386    liaoningsheng           CN  32.0  3/31/2014  ...       NaN        2710   \n",
              "412   guangdongsheng           CN  48.0  3/31/2014  ...       NaN        2994   \n",
              "445         shanghai           CN  34.0  3/31/2014  ...       NaN        2898   \n",
              "564        guangdong           CN  46.0  3/31/2014  ...       NaN        2748   \n",
              "...              ...          ...   ...        ...  ...       ...         ...   \n",
              "7824           hubei           CN  28.0  3/31/2014  ...       NaN        1522   \n",
              "7825           hubei           CN  27.0  3/31/2014  ...       NaN        1522   \n",
              "7842        xinjiang           CN  67.0  3/31/2014  ...       NaN        1102   \n",
              "7914        shanghai           CN  41.0  3/31/2014  ...       NaN         746   \n",
              "7915        xinjiang           CN  52.0  3/31/2014  ...       NaN         746   \n",
              "\n",
              "      LAST_FLIGHT_DATE  LAST_TO_END  AVG_INTERVAL MAX_INTERVAL  \\\n",
              "140          12/6/2013          117          12.0           12   \n",
              "386          7/16/2013          260          41.0           41   \n",
              "412          9/24/2013          190         152.0          152   \n",
              "445         11/27/2013          126          14.0           14   \n",
              "564          4/30/2013          337           2.0            2   \n",
              "...                ...          ...           ...          ...   \n",
              "7824        10/27/2013          157          12.0           12   \n",
              "7825          7/8/2013          268           5.0            5   \n",
              "7842        12/10/2013          113          38.0           38   \n",
              "7914         6/11/2013          295           1.0            1   \n",
              "7915         6/17/2013          289           9.0            9   \n",
              "\n",
              "      EXCHANGE_COUNT  avg_discount  Points_Sum  Point_NotFlight  \n",
              "140                0      0.585926        2955                1  \n",
              "386                0      0.720000        1670                0  \n",
              "412                0      0.650000        1504                1  \n",
              "445                0      0.670000        1018                0  \n",
              "564                0      0.700000        1695                0  \n",
              "...              ...           ...         ...              ...  \n",
              "7824               0      0.330000         477                8  \n",
              "7825               0      0.330000           0                0  \n",
              "7842               0      0.440000         400                0  \n",
              "7914               0      0.515000         400                0  \n",
              "7915               0      0.515000         400                0  \n",
              "\n",
              "[74 rows x 23 columns]"
            ],
            "text/html": [
              "\n",
              "  <div id=\"df-a8049476-0ce6-4102-974c-7b6fb4b133b3\">\n",
              "    <div class=\"colab-df-container\">\n",
              "      <div>\n",
              "<style scoped>\n",
              "    .dataframe tbody tr th:only-of-type {\n",
              "        vertical-align: middle;\n",
              "    }\n",
              "\n",
              "    .dataframe tbody tr th {\n",
              "        vertical-align: top;\n",
              "    }\n",
              "\n",
              "    .dataframe thead th {\n",
              "        text-align: right;\n",
              "    }\n",
              "</style>\n",
              "<table border=\"1\" class=\"dataframe\">\n",
              "  <thead>\n",
              "    <tr style=\"text-align: right;\">\n",
              "      <th></th>\n",
              "      <th>MEMBER_NO</th>\n",
              "      <th>FFP_DATE</th>\n",
              "      <th>FIRST_FLIGHT_DATE</th>\n",
              "      <th>GENDER</th>\n",
              "      <th>FFP_TIER</th>\n",
              "      <th>WORK_CITY</th>\n",
              "      <th>WORK_PROVINCE</th>\n",
              "      <th>WORK_COUNTRY</th>\n",
              "      <th>AGE</th>\n",
              "      <th>LOAD_TIME</th>\n",
              "      <th>...</th>\n",
              "      <th>SUM_YR_2</th>\n",
              "      <th>SEG_KM_SUM</th>\n",
              "      <th>LAST_FLIGHT_DATE</th>\n",
              "      <th>LAST_TO_END</th>\n",
              "      <th>AVG_INTERVAL</th>\n",
              "      <th>MAX_INTERVAL</th>\n",
              "      <th>EXCHANGE_COUNT</th>\n",
              "      <th>avg_discount</th>\n",
              "      <th>Points_Sum</th>\n",
              "      <th>Point_NotFlight</th>\n",
              "    </tr>\n",
              "  </thead>\n",
              "  <tbody>\n",
              "    <tr>\n",
              "      <th>140</th>\n",
              "      <td>7780</td>\n",
              "      <td>2/20/2011</td>\n",
              "      <td>4/11/2011</td>\n",
              "      <td>Male</td>\n",
              "      <td>4</td>\n",
              "      <td>changchun</td>\n",
              "      <td>jilinsheng</td>\n",
              "      <td>CN</td>\n",
              "      <td>38.0</td>\n",
              "      <td>3/31/2014</td>\n",
              "      <td>...</td>\n",
              "      <td>NaN</td>\n",
              "      <td>3385</td>\n",
              "      <td>12/6/2013</td>\n",
              "      <td>117</td>\n",
              "      <td>12.0</td>\n",
              "      <td>12</td>\n",
              "      <td>0</td>\n",
              "      <td>0.585926</td>\n",
              "      <td>2955</td>\n",
              "      <td>1</td>\n",
              "    </tr>\n",
              "    <tr>\n",
              "      <th>386</th>\n",
              "      <td>34533</td>\n",
              "      <td>6/25/2010</td>\n",
              "      <td>6/26/2010</td>\n",
              "      <td>Male</td>\n",
              "      <td>4</td>\n",
              "      <td>liaoyang</td>\n",
              "      <td>liaoningsheng</td>\n",
              "      <td>CN</td>\n",
              "      <td>32.0</td>\n",
              "      <td>3/31/2014</td>\n",
              "      <td>...</td>\n",
              "      <td>NaN</td>\n",
              "      <td>2710</td>\n",
              "      <td>7/16/2013</td>\n",
              "      <td>260</td>\n",
              "      <td>41.0</td>\n",
              "      <td>41</td>\n",
              "      <td>0</td>\n",
              "      <td>0.720000</td>\n",
              "      <td>1670</td>\n",
              "      <td>0</td>\n",
              "    </tr>\n",
              "    <tr>\n",
              "      <th>412</th>\n",
              "      <td>4115</td>\n",
              "      <td>8/9/2010</td>\n",
              "      <td>3/6/2012</td>\n",
              "      <td>Male</td>\n",
              "      <td>4</td>\n",
              "      <td>zhuhai</td>\n",
              "      <td>guangdongsheng</td>\n",
              "      <td>CN</td>\n",
              "      <td>48.0</td>\n",
              "      <td>3/31/2014</td>\n",
              "      <td>...</td>\n",
              "      <td>NaN</td>\n",
              "      <td>2994</td>\n",
              "      <td>9/24/2013</td>\n",
              "      <td>190</td>\n",
              "      <td>152.0</td>\n",
              "      <td>152</td>\n",
              "      <td>0</td>\n",
              "      <td>0.650000</td>\n",
              "      <td>1504</td>\n",
              "      <td>1</td>\n",
              "    </tr>\n",
              "    <tr>\n",
              "      <th>445</th>\n",
              "      <td>47043</td>\n",
              "      <td>3/21/2013</td>\n",
              "      <td>11/13/2013</td>\n",
              "      <td>Male</td>\n",
              "      <td>4</td>\n",
              "      <td>shanghai</td>\n",
              "      <td>shanghai</td>\n",
              "      <td>CN</td>\n",
              "      <td>34.0</td>\n",
              "      <td>3/31/2014</td>\n",
              "      <td>...</td>\n",
              "      <td>NaN</td>\n",
              "      <td>2898</td>\n",
              "      <td>11/27/2013</td>\n",
              "      <td>126</td>\n",
              "      <td>14.0</td>\n",
              "      <td>14</td>\n",
              "      <td>0</td>\n",
              "      <td>0.670000</td>\n",
              "      <td>1018</td>\n",
              "      <td>0</td>\n",
              "    </tr>\n",
              "    <tr>\n",
              "      <th>564</th>\n",
              "      <td>38758</td>\n",
              "      <td>4/4/2008</td>\n",
              "      <td>9/24/2008</td>\n",
              "      <td>Male</td>\n",
              "      <td>4</td>\n",
              "      <td>dongguan</td>\n",
              "      <td>guangdong</td>\n",
              "      <td>CN</td>\n",
              "      <td>46.0</td>\n",
              "      <td>3/31/2014</td>\n",
              "      <td>...</td>\n",
              "      <td>NaN</td>\n",
              "      <td>2748</td>\n",
              "      <td>4/30/2013</td>\n",
              "      <td>337</td>\n",
              "      <td>2.0</td>\n",
              "      <td>2</td>\n",
              "      <td>0</td>\n",
              "      <td>0.700000</td>\n",
              "      <td>1695</td>\n",
              "      <td>0</td>\n",
              "    </tr>\n",
              "    <tr>\n",
              "      <th>...</th>\n",
              "      <td>...</td>\n",
              "      <td>...</td>\n",
              "      <td>...</td>\n",
              "      <td>...</td>\n",
              "      <td>...</td>\n",
              "      <td>...</td>\n",
              "      <td>...</td>\n",
              "      <td>...</td>\n",
              "      <td>...</td>\n",
              "      <td>...</td>\n",
              "      <td>...</td>\n",
              "      <td>...</td>\n",
              "      <td>...</td>\n",
              "      <td>...</td>\n",
              "      <td>...</td>\n",
              "      <td>...</td>\n",
              "      <td>...</td>\n",
              "      <td>...</td>\n",
              "      <td>...</td>\n",
              "      <td>...</td>\n",
              "      <td>...</td>\n",
              "    </tr>\n",
              "    <tr>\n",
              "      <th>7824</th>\n",
              "      <td>27287</td>\n",
              "      <td>2/8/2011</td>\n",
              "      <td>10/15/2013</td>\n",
              "      <td>Female</td>\n",
              "      <td>4</td>\n",
              "      <td>wuhan</td>\n",
              "      <td>hubei</td>\n",
              "      <td>CN</td>\n",
              "      <td>28.0</td>\n",
              "      <td>3/31/2014</td>\n",
              "      <td>...</td>\n",
              "      <td>NaN</td>\n",
              "      <td>1522</td>\n",
              "      <td>10/27/2013</td>\n",
              "      <td>157</td>\n",
              "      <td>12.0</td>\n",
              "      <td>12</td>\n",
              "      <td>0</td>\n",
              "      <td>0.330000</td>\n",
              "      <td>477</td>\n",
              "      <td>8</td>\n",
              "    </tr>\n",
              "    <tr>\n",
              "      <th>7825</th>\n",
              "      <td>45539</td>\n",
              "      <td>2/15/2013</td>\n",
              "      <td>7/3/2013</td>\n",
              "      <td>Female</td>\n",
              "      <td>4</td>\n",
              "      <td>wuhanshi</td>\n",
              "      <td>hubei</td>\n",
              "      <td>CN</td>\n",
              "      <td>27.0</td>\n",
              "      <td>3/31/2014</td>\n",
              "      <td>...</td>\n",
              "      <td>NaN</td>\n",
              "      <td>1522</td>\n",
              "      <td>7/8/2013</td>\n",
              "      <td>268</td>\n",
              "      <td>5.0</td>\n",
              "      <td>5</td>\n",
              "      <td>0</td>\n",
              "      <td>0.330000</td>\n",
              "      <td>0</td>\n",
              "      <td>0</td>\n",
              "    </tr>\n",
              "    <tr>\n",
              "      <th>7842</th>\n",
              "      <td>10325</td>\n",
              "      <td>9/20/2009</td>\n",
              "      <td>9/20/2009</td>\n",
              "      <td>Male</td>\n",
              "      <td>4</td>\n",
              "      <td>yining</td>\n",
              "      <td>xinjiang</td>\n",
              "      <td>CN</td>\n",
              "      <td>67.0</td>\n",
              "      <td>3/31/2014</td>\n",
              "      <td>...</td>\n",
              "      <td>NaN</td>\n",
              "      <td>1102</td>\n",
              "      <td>12/10/2013</td>\n",
              "      <td>113</td>\n",
              "      <td>38.0</td>\n",
              "      <td>38</td>\n",
              "      <td>0</td>\n",
              "      <td>0.440000</td>\n",
              "      <td>400</td>\n",
              "      <td>0</td>\n",
              "    </tr>\n",
              "    <tr>\n",
              "      <th>7914</th>\n",
              "      <td>21610</td>\n",
              "      <td>3/24/2010</td>\n",
              "      <td>3/24/2010</td>\n",
              "      <td>Male</td>\n",
              "      <td>4</td>\n",
              "      <td>shanghai</td>\n",
              "      <td>shanghai</td>\n",
              "      <td>CN</td>\n",
              "      <td>41.0</td>\n",
              "      <td>3/31/2014</td>\n",
              "      <td>...</td>\n",
              "      <td>NaN</td>\n",
              "      <td>746</td>\n",
              "      <td>6/11/2013</td>\n",
              "      <td>295</td>\n",
              "      <td>1.0</td>\n",
              "      <td>1</td>\n",
              "      <td>0</td>\n",
              "      <td>0.515000</td>\n",
              "      <td>400</td>\n",
              "      <td>0</td>\n",
              "    </tr>\n",
              "    <tr>\n",
              "      <th>7915</th>\n",
              "      <td>26421</td>\n",
              "      <td>6/14/2010</td>\n",
              "      <td>6/14/2010</td>\n",
              "      <td>Male</td>\n",
              "      <td>4</td>\n",
              "      <td>kuerle</td>\n",
              "      <td>xinjiang</td>\n",
              "      <td>CN</td>\n",
              "      <td>52.0</td>\n",
              "      <td>3/31/2014</td>\n",
              "      <td>...</td>\n",
              "      <td>NaN</td>\n",
              "      <td>746</td>\n",
              "      <td>6/17/2013</td>\n",
              "      <td>289</td>\n",
              "      <td>9.0</td>\n",
              "      <td>9</td>\n",
              "      <td>0</td>\n",
              "      <td>0.515000</td>\n",
              "      <td>400</td>\n",
              "      <td>0</td>\n",
              "    </tr>\n",
              "  </tbody>\n",
              "</table>\n",
              "<p>74 rows × 23 columns</p>\n",
              "</div>\n",
              "      <button class=\"colab-df-convert\" onclick=\"convertToInteractive('df-a8049476-0ce6-4102-974c-7b6fb4b133b3')\"\n",
              "              title=\"Convert this dataframe to an interactive table.\"\n",
              "              style=\"display:none;\">\n",
              "        \n",
              "  <svg xmlns=\"http://www.w3.org/2000/svg\" height=\"24px\"viewBox=\"0 0 24 24\"\n",
              "       width=\"24px\">\n",
              "    <path d=\"M0 0h24v24H0V0z\" fill=\"none\"/>\n",
              "    <path d=\"M18.56 5.44l.94 2.06.94-2.06 2.06-.94-2.06-.94-.94-2.06-.94 2.06-2.06.94zm-11 1L8.5 8.5l.94-2.06 2.06-.94-2.06-.94L8.5 2.5l-.94 2.06-2.06.94zm10 10l.94 2.06.94-2.06 2.06-.94-2.06-.94-.94-2.06-.94 2.06-2.06.94z\"/><path d=\"M17.41 7.96l-1.37-1.37c-.4-.4-.92-.59-1.43-.59-.52 0-1.04.2-1.43.59L10.3 9.45l-7.72 7.72c-.78.78-.78 2.05 0 2.83L4 21.41c.39.39.9.59 1.41.59.51 0 1.02-.2 1.41-.59l7.78-7.78 2.81-2.81c.8-.78.8-2.07 0-2.86zM5.41 20L4 18.59l7.72-7.72 1.47 1.35L5.41 20z\"/>\n",
              "  </svg>\n",
              "      </button>\n",
              "      \n",
              "  <style>\n",
              "    .colab-df-container {\n",
              "      display:flex;\n",
              "      flex-wrap:wrap;\n",
              "      gap: 12px;\n",
              "    }\n",
              "\n",
              "    .colab-df-convert {\n",
              "      background-color: #E8F0FE;\n",
              "      border: none;\n",
              "      border-radius: 50%;\n",
              "      cursor: pointer;\n",
              "      display: none;\n",
              "      fill: #1967D2;\n",
              "      height: 32px;\n",
              "      padding: 0 0 0 0;\n",
              "      width: 32px;\n",
              "    }\n",
              "\n",
              "    .colab-df-convert:hover {\n",
              "      background-color: #E2EBFA;\n",
              "      box-shadow: 0px 1px 2px rgba(60, 64, 67, 0.3), 0px 1px 3px 1px rgba(60, 64, 67, 0.15);\n",
              "      fill: #174EA6;\n",
              "    }\n",
              "\n",
              "    [theme=dark] .colab-df-convert {\n",
              "      background-color: #3B4455;\n",
              "      fill: #D2E3FC;\n",
              "    }\n",
              "\n",
              "    [theme=dark] .colab-df-convert:hover {\n",
              "      background-color: #434B5C;\n",
              "      box-shadow: 0px 1px 3px 1px rgba(0, 0, 0, 0.15);\n",
              "      filter: drop-shadow(0px 1px 2px rgba(0, 0, 0, 0.3));\n",
              "      fill: #FFFFFF;\n",
              "    }\n",
              "  </style>\n",
              "\n",
              "      <script>\n",
              "        const buttonEl =\n",
              "          document.querySelector('#df-a8049476-0ce6-4102-974c-7b6fb4b133b3 button.colab-df-convert');\n",
              "        buttonEl.style.display =\n",
              "          google.colab.kernel.accessAllowed ? 'block' : 'none';\n",
              "\n",
              "        async function convertToInteractive(key) {\n",
              "          const element = document.querySelector('#df-a8049476-0ce6-4102-974c-7b6fb4b133b3');\n",
              "          const dataTable =\n",
              "            await google.colab.kernel.invokeFunction('convertToInteractive',\n",
              "                                                     [key], {});\n",
              "          if (!dataTable) return;\n",
              "\n",
              "          const docLinkHtml = 'Like what you see? Visit the ' +\n",
              "            '<a target=\"_blank\" href=https://colab.research.google.com/notebooks/data_table.ipynb>data table notebook</a>'\n",
              "            + ' to learn more about interactive tables.';\n",
              "          element.innerHTML = '';\n",
              "          dataTable['output_type'] = 'display_data';\n",
              "          await google.colab.output.renderOutput(dataTable, element);\n",
              "          const docLink = document.createElement('div');\n",
              "          docLink.innerHTML = docLinkHtml;\n",
              "          element.appendChild(docLink);\n",
              "        }\n",
              "      </script>\n",
              "    </div>\n",
              "  </div>\n",
              "  "
            ]
          },
          "metadata": {},
          "execution_count": 67
        }
      ]
    },
    {
      "cell_type": "code",
      "source": [
        "data.isnull().sum()"
      ],
      "metadata": {
        "colab": {
          "base_uri": "https://localhost:8080/"
        },
        "id": "RYpqpdiTnqn1",
        "outputId": "c323424c-9e36-44ee-c6eb-55a58df5827f"
      },
      "execution_count": 68,
      "outputs": [
        {
          "output_type": "execute_result",
          "data": {
            "text/plain": [
              "MEMBER_NO             0\n",
              "FFP_DATE              0\n",
              "FIRST_FLIGHT_DATE     0\n",
              "GENDER                0\n",
              "FFP_TIER              0\n",
              "WORK_CITY             0\n",
              "WORK_PROVINCE         0\n",
              "WORK_COUNTRY          0\n",
              "AGE                   0\n",
              "LOAD_TIME             0\n",
              "FLIGHT_COUNT          0\n",
              "BP_SUM                0\n",
              "SUM_YR_1              0\n",
              "SUM_YR_2             74\n",
              "SEG_KM_SUM            0\n",
              "LAST_FLIGHT_DATE      0\n",
              "LAST_TO_END           0\n",
              "AVG_INTERVAL          0\n",
              "MAX_INTERVAL          0\n",
              "EXCHANGE_COUNT        0\n",
              "avg_discount          0\n",
              "Points_Sum            0\n",
              "Point_NotFlight       0\n",
              "dtype: int64"
            ]
          },
          "metadata": {},
          "execution_count": 68
        }
      ]
    },
    {
      "cell_type": "code",
      "source": [
        "data['SUM_YR_2'].interpolate(method = 'linear',inplace=True)"
      ],
      "metadata": {
        "id": "Hrj5jx7fnqsw"
      },
      "execution_count": 69,
      "outputs": []
    },
    {
      "cell_type": "code",
      "source": [
        "data.isnull().sum()"
      ],
      "metadata": {
        "colab": {
          "base_uri": "https://localhost:8080/"
        },
        "id": "a36QkrYvnqvY",
        "outputId": "16433cb9-5709-4be2-e627-0d0566abafef"
      },
      "execution_count": 70,
      "outputs": [
        {
          "output_type": "execute_result",
          "data": {
            "text/plain": [
              "MEMBER_NO            0\n",
              "FFP_DATE             0\n",
              "FIRST_FLIGHT_DATE    0\n",
              "GENDER               0\n",
              "FFP_TIER             0\n",
              "WORK_CITY            0\n",
              "WORK_PROVINCE        0\n",
              "WORK_COUNTRY         0\n",
              "AGE                  0\n",
              "LOAD_TIME            0\n",
              "FLIGHT_COUNT         0\n",
              "BP_SUM               0\n",
              "SUM_YR_1             0\n",
              "SUM_YR_2             0\n",
              "SEG_KM_SUM           0\n",
              "LAST_FLIGHT_DATE     0\n",
              "LAST_TO_END          0\n",
              "AVG_INTERVAL         0\n",
              "MAX_INTERVAL         0\n",
              "EXCHANGE_COUNT       0\n",
              "avg_discount         0\n",
              "Points_Sum           0\n",
              "Point_NotFlight      0\n",
              "dtype: int64"
            ]
          },
          "metadata": {},
          "execution_count": 70
        }
      ]
    },
    {
      "cell_type": "code",
      "source": [
        "#to check the data is not randomised or mixed due to interpolate function above we done\n",
        "#so we are checking random values 140,386\n",
        "\n",
        "data.iloc[[140,386],:]\n",
        "#our data is mixed we need to fix it "
      ],
      "metadata": {
        "colab": {
          "base_uri": "https://localhost:8080/",
          "height": 205
        },
        "id": "_yLlDwUpnqxT",
        "outputId": "e76e1b25-6afe-4039-e503-8a445be35848"
      },
      "execution_count": 71,
      "outputs": [
        {
          "output_type": "execute_result",
          "data": {
            "text/plain": [
              "     MEMBER_NO    FFP_DATE FIRST_FLIGHT_DATE  GENDER  FFP_TIER  WORK_CITY  \\\n",
              "149      42166  11/27/2011         12/7/2011    Male         4  guangzhou   \n",
              "422      18598  11/20/2012         2/26/2013  Female         4     dalian   \n",
              "\n",
              "    WORK_PROVINCE WORK_COUNTRY   AGE  LOAD_TIME  ...  SUM_YR_2  SEG_KM_SUM  \\\n",
              "149     guangdong           CN  62.0  3/31/2014  ...       0.0        3158   \n",
              "422      liaoning           CN  30.0  3/31/2014  ...    1465.0        6141   \n",
              "\n",
              "     LAST_FLIGHT_DATE  LAST_TO_END  AVG_INTERVAL MAX_INTERVAL  EXCHANGE_COUNT  \\\n",
              "149         12/6/2012          482          14.0           14               0   \n",
              "422         7/22/2013          254          73.0          146               0   \n",
              "\n",
              "     avg_discount  Points_Sum  Point_NotFlight  \n",
              "149      0.627644        1098                0  \n",
              "422      0.316838        2616                9  \n",
              "\n",
              "[2 rows x 23 columns]"
            ],
            "text/html": [
              "\n",
              "  <div id=\"df-7936f84b-3a3d-489e-ba56-0883375cee47\">\n",
              "    <div class=\"colab-df-container\">\n",
              "      <div>\n",
              "<style scoped>\n",
              "    .dataframe tbody tr th:only-of-type {\n",
              "        vertical-align: middle;\n",
              "    }\n",
              "\n",
              "    .dataframe tbody tr th {\n",
              "        vertical-align: top;\n",
              "    }\n",
              "\n",
              "    .dataframe thead th {\n",
              "        text-align: right;\n",
              "    }\n",
              "</style>\n",
              "<table border=\"1\" class=\"dataframe\">\n",
              "  <thead>\n",
              "    <tr style=\"text-align: right;\">\n",
              "      <th></th>\n",
              "      <th>MEMBER_NO</th>\n",
              "      <th>FFP_DATE</th>\n",
              "      <th>FIRST_FLIGHT_DATE</th>\n",
              "      <th>GENDER</th>\n",
              "      <th>FFP_TIER</th>\n",
              "      <th>WORK_CITY</th>\n",
              "      <th>WORK_PROVINCE</th>\n",
              "      <th>WORK_COUNTRY</th>\n",
              "      <th>AGE</th>\n",
              "      <th>LOAD_TIME</th>\n",
              "      <th>...</th>\n",
              "      <th>SUM_YR_2</th>\n",
              "      <th>SEG_KM_SUM</th>\n",
              "      <th>LAST_FLIGHT_DATE</th>\n",
              "      <th>LAST_TO_END</th>\n",
              "      <th>AVG_INTERVAL</th>\n",
              "      <th>MAX_INTERVAL</th>\n",
              "      <th>EXCHANGE_COUNT</th>\n",
              "      <th>avg_discount</th>\n",
              "      <th>Points_Sum</th>\n",
              "      <th>Point_NotFlight</th>\n",
              "    </tr>\n",
              "  </thead>\n",
              "  <tbody>\n",
              "    <tr>\n",
              "      <th>149</th>\n",
              "      <td>42166</td>\n",
              "      <td>11/27/2011</td>\n",
              "      <td>12/7/2011</td>\n",
              "      <td>Male</td>\n",
              "      <td>4</td>\n",
              "      <td>guangzhou</td>\n",
              "      <td>guangdong</td>\n",
              "      <td>CN</td>\n",
              "      <td>62.0</td>\n",
              "      <td>3/31/2014</td>\n",
              "      <td>...</td>\n",
              "      <td>0.0</td>\n",
              "      <td>3158</td>\n",
              "      <td>12/6/2012</td>\n",
              "      <td>482</td>\n",
              "      <td>14.0</td>\n",
              "      <td>14</td>\n",
              "      <td>0</td>\n",
              "      <td>0.627644</td>\n",
              "      <td>1098</td>\n",
              "      <td>0</td>\n",
              "    </tr>\n",
              "    <tr>\n",
              "      <th>422</th>\n",
              "      <td>18598</td>\n",
              "      <td>11/20/2012</td>\n",
              "      <td>2/26/2013</td>\n",
              "      <td>Female</td>\n",
              "      <td>4</td>\n",
              "      <td>dalian</td>\n",
              "      <td>liaoning</td>\n",
              "      <td>CN</td>\n",
              "      <td>30.0</td>\n",
              "      <td>3/31/2014</td>\n",
              "      <td>...</td>\n",
              "      <td>1465.0</td>\n",
              "      <td>6141</td>\n",
              "      <td>7/22/2013</td>\n",
              "      <td>254</td>\n",
              "      <td>73.0</td>\n",
              "      <td>146</td>\n",
              "      <td>0</td>\n",
              "      <td>0.316838</td>\n",
              "      <td>2616</td>\n",
              "      <td>9</td>\n",
              "    </tr>\n",
              "  </tbody>\n",
              "</table>\n",
              "<p>2 rows × 23 columns</p>\n",
              "</div>\n",
              "      <button class=\"colab-df-convert\" onclick=\"convertToInteractive('df-7936f84b-3a3d-489e-ba56-0883375cee47')\"\n",
              "              title=\"Convert this dataframe to an interactive table.\"\n",
              "              style=\"display:none;\">\n",
              "        \n",
              "  <svg xmlns=\"http://www.w3.org/2000/svg\" height=\"24px\"viewBox=\"0 0 24 24\"\n",
              "       width=\"24px\">\n",
              "    <path d=\"M0 0h24v24H0V0z\" fill=\"none\"/>\n",
              "    <path d=\"M18.56 5.44l.94 2.06.94-2.06 2.06-.94-2.06-.94-.94-2.06-.94 2.06-2.06.94zm-11 1L8.5 8.5l.94-2.06 2.06-.94-2.06-.94L8.5 2.5l-.94 2.06-2.06.94zm10 10l.94 2.06.94-2.06 2.06-.94-2.06-.94-.94-2.06-.94 2.06-2.06.94z\"/><path d=\"M17.41 7.96l-1.37-1.37c-.4-.4-.92-.59-1.43-.59-.52 0-1.04.2-1.43.59L10.3 9.45l-7.72 7.72c-.78.78-.78 2.05 0 2.83L4 21.41c.39.39.9.59 1.41.59.51 0 1.02-.2 1.41-.59l7.78-7.78 2.81-2.81c.8-.78.8-2.07 0-2.86zM5.41 20L4 18.59l7.72-7.72 1.47 1.35L5.41 20z\"/>\n",
              "  </svg>\n",
              "      </button>\n",
              "      \n",
              "  <style>\n",
              "    .colab-df-container {\n",
              "      display:flex;\n",
              "      flex-wrap:wrap;\n",
              "      gap: 12px;\n",
              "    }\n",
              "\n",
              "    .colab-df-convert {\n",
              "      background-color: #E8F0FE;\n",
              "      border: none;\n",
              "      border-radius: 50%;\n",
              "      cursor: pointer;\n",
              "      display: none;\n",
              "      fill: #1967D2;\n",
              "      height: 32px;\n",
              "      padding: 0 0 0 0;\n",
              "      width: 32px;\n",
              "    }\n",
              "\n",
              "    .colab-df-convert:hover {\n",
              "      background-color: #E2EBFA;\n",
              "      box-shadow: 0px 1px 2px rgba(60, 64, 67, 0.3), 0px 1px 3px 1px rgba(60, 64, 67, 0.15);\n",
              "      fill: #174EA6;\n",
              "    }\n",
              "\n",
              "    [theme=dark] .colab-df-convert {\n",
              "      background-color: #3B4455;\n",
              "      fill: #D2E3FC;\n",
              "    }\n",
              "\n",
              "    [theme=dark] .colab-df-convert:hover {\n",
              "      background-color: #434B5C;\n",
              "      box-shadow: 0px 1px 3px 1px rgba(0, 0, 0, 0.15);\n",
              "      filter: drop-shadow(0px 1px 2px rgba(0, 0, 0, 0.3));\n",
              "      fill: #FFFFFF;\n",
              "    }\n",
              "  </style>\n",
              "\n",
              "      <script>\n",
              "        const buttonEl =\n",
              "          document.querySelector('#df-7936f84b-3a3d-489e-ba56-0883375cee47 button.colab-df-convert');\n",
              "        buttonEl.style.display =\n",
              "          google.colab.kernel.accessAllowed ? 'block' : 'none';\n",
              "\n",
              "        async function convertToInteractive(key) {\n",
              "          const element = document.querySelector('#df-7936f84b-3a3d-489e-ba56-0883375cee47');\n",
              "          const dataTable =\n",
              "            await google.colab.kernel.invokeFunction('convertToInteractive',\n",
              "                                                     [key], {});\n",
              "          if (!dataTable) return;\n",
              "\n",
              "          const docLinkHtml = 'Like what you see? Visit the ' +\n",
              "            '<a target=\"_blank\" href=https://colab.research.google.com/notebooks/data_table.ipynb>data table notebook</a>'\n",
              "            + ' to learn more about interactive tables.';\n",
              "          element.innerHTML = '';\n",
              "          dataTable['output_type'] = 'display_data';\n",
              "          await google.colab.output.renderOutput(dataTable, element);\n",
              "          const docLink = document.createElement('div');\n",
              "          docLink.innerHTML = docLinkHtml;\n",
              "          element.appendChild(docLink);\n",
              "        }\n",
              "      </script>\n",
              "    </div>\n",
              "  </div>\n",
              "  "
            ]
          },
          "metadata": {},
          "execution_count": 71
        }
      ]
    },
    {
      "cell_type": "code",
      "source": [
        "#our data is completely mixed \n",
        "#to rectify it first we need to find the how many value in each we need to sort\n",
        "data.nunique().sort_values()"
      ],
      "metadata": {
        "colab": {
          "base_uri": "https://localhost:8080/"
        },
        "id": "IfQ3HiLFnqzF",
        "outputId": "3ce91c83-b44d-4291-b25d-5137550a861b"
      },
      "execution_count": 72,
      "outputs": [
        {
          "output_type": "execute_result",
          "data": {
            "text/plain": [
              "LOAD_TIME               1\n",
              "GENDER                  2\n",
              "FFP_TIER                3\n",
              "EXCHANGE_COUNT          8\n",
              "FLIGHT_COUNT            9\n",
              "WORK_COUNTRY           40\n",
              "Point_NotFlight        46\n",
              "AGE                    70\n",
              "WORK_PROVINCE         276\n",
              "MAX_INTERVAL          627\n",
              "LAST_TO_END           730\n",
              "LAST_FLIGHT_DATE      730\n",
              "WORK_CITY             782\n",
              "AVG_INTERVAL         1111\n",
              "BP_SUM               1441\n",
              "SUM_YR_1             1485\n",
              "SUM_YR_2             1538\n",
              "Points_Sum           2219\n",
              "SEG_KM_SUM           2312\n",
              "FFP_DATE             2324\n",
              "FIRST_FLIGHT_DATE    2465\n",
              "avg_discount         4143\n",
              "MEMBER_NO            7476\n",
              "dtype: int64"
            ]
          },
          "metadata": {},
          "execution_count": 72
        }
      ]
    },
    {
      "cell_type": "code",
      "source": [
        "data.dtypes"
      ],
      "metadata": {
        "colab": {
          "base_uri": "https://localhost:8080/"
        },
        "id": "jObob-eLnq2d",
        "outputId": "799d01e9-6e6f-4601-9bf7-f97360501f02"
      },
      "execution_count": 73,
      "outputs": [
        {
          "output_type": "execute_result",
          "data": {
            "text/plain": [
              "MEMBER_NO              int64\n",
              "FFP_DATE              object\n",
              "FIRST_FLIGHT_DATE     object\n",
              "GENDER                object\n",
              "FFP_TIER               int64\n",
              "WORK_CITY             object\n",
              "WORK_PROVINCE         object\n",
              "WORK_COUNTRY          object\n",
              "AGE                  float64\n",
              "LOAD_TIME             object\n",
              "FLIGHT_COUNT           int64\n",
              "BP_SUM                 int64\n",
              "SUM_YR_1             float64\n",
              "SUM_YR_2             float64\n",
              "SEG_KM_SUM             int64\n",
              "LAST_FLIGHT_DATE      object\n",
              "LAST_TO_END            int64\n",
              "AVG_INTERVAL         float64\n",
              "MAX_INTERVAL           int64\n",
              "EXCHANGE_COUNT         int64\n",
              "avg_discount         float64\n",
              "Points_Sum             int64\n",
              "Point_NotFlight        int64\n",
              "dtype: object"
            ]
          },
          "metadata": {},
          "execution_count": 73
        }
      ]
    },
    {
      "cell_type": "code",
      "source": [
        "print(data['AGE'].unique())\n",
        "print(data['WORK_CITY'].nunique())\n",
        "print(data['WORK_PROVINCE'].nunique())\n",
        "print(data['WORK_COUNTRY'].nunique())"
      ],
      "metadata": {
        "colab": {
          "base_uri": "https://localhost:8080/"
        },
        "id": "F_H6ExJinq5Q",
        "outputId": "545612fe-c57d-4eb0-aab3-f4f0c00e40fb"
      },
      "execution_count": 74,
      "outputs": [
        {
          "output_type": "stream",
          "name": "stdout",
          "text": [
            "[29. 43. 31. 30. 40. 33. 34. 45. 35. 46. 23. 57. 53. 37. 44. 48. 41. 39.\n",
            " 63. 47. 38. 36. 25. 52. 54. 28. 56. 49. 42. 24. 32. 76. 58. 59. 62. 51.\n",
            " 55. 65. 61. 67. 69. 27. 26. 50. 64. 21. 22. 73. 78. 60. 70. 66. 75. 68.\n",
            " 74. 71. 72. 16. 17. 79. 19. 77. 18. 84. 13. 91. 20. 83.  9. 92.]\n",
            "782\n",
            "276\n",
            "40\n"
          ]
        }
      ]
    },
    {
      "cell_type": "code",
      "source": [
        "country_members = data[['WORK_COUNTRY','MEMBER_NO']]"
      ],
      "metadata": {
        "id": "FdSzOcGruefd"
      },
      "execution_count": 75,
      "outputs": []
    },
    {
      "cell_type": "code",
      "source": [
        "country_members"
      ],
      "metadata": {
        "colab": {
          "base_uri": "https://localhost:8080/",
          "height": 424
        },
        "id": "7p3CtTl5uezf",
        "outputId": "e2a1c587-10d4-4ba0-879f-8cd4f261a1b9"
      },
      "execution_count": 76,
      "outputs": [
        {
          "output_type": "execute_result",
          "data": {
            "text/plain": [
              "     WORK_COUNTRY  MEMBER_NO\n",
              "0              CN      27355\n",
              "1              CN       4032\n",
              "2              CN      12913\n",
              "3              CN      58465\n",
              "4              CN      45414\n",
              "...           ...        ...\n",
              "7983           CN      18375\n",
              "7984           CN      36041\n",
              "7985           CN      45690\n",
              "7986           CN      61027\n",
              "7987           CN      61340\n",
              "\n",
              "[7476 rows x 2 columns]"
            ],
            "text/html": [
              "\n",
              "  <div id=\"df-d58dd2ae-1ec3-45ef-8836-6c7823b1ef66\">\n",
              "    <div class=\"colab-df-container\">\n",
              "      <div>\n",
              "<style scoped>\n",
              "    .dataframe tbody tr th:only-of-type {\n",
              "        vertical-align: middle;\n",
              "    }\n",
              "\n",
              "    .dataframe tbody tr th {\n",
              "        vertical-align: top;\n",
              "    }\n",
              "\n",
              "    .dataframe thead th {\n",
              "        text-align: right;\n",
              "    }\n",
              "</style>\n",
              "<table border=\"1\" class=\"dataframe\">\n",
              "  <thead>\n",
              "    <tr style=\"text-align: right;\">\n",
              "      <th></th>\n",
              "      <th>WORK_COUNTRY</th>\n",
              "      <th>MEMBER_NO</th>\n",
              "    </tr>\n",
              "  </thead>\n",
              "  <tbody>\n",
              "    <tr>\n",
              "      <th>0</th>\n",
              "      <td>CN</td>\n",
              "      <td>27355</td>\n",
              "    </tr>\n",
              "    <tr>\n",
              "      <th>1</th>\n",
              "      <td>CN</td>\n",
              "      <td>4032</td>\n",
              "    </tr>\n",
              "    <tr>\n",
              "      <th>2</th>\n",
              "      <td>CN</td>\n",
              "      <td>12913</td>\n",
              "    </tr>\n",
              "    <tr>\n",
              "      <th>3</th>\n",
              "      <td>CN</td>\n",
              "      <td>58465</td>\n",
              "    </tr>\n",
              "    <tr>\n",
              "      <th>4</th>\n",
              "      <td>CN</td>\n",
              "      <td>45414</td>\n",
              "    </tr>\n",
              "    <tr>\n",
              "      <th>...</th>\n",
              "      <td>...</td>\n",
              "      <td>...</td>\n",
              "    </tr>\n",
              "    <tr>\n",
              "      <th>7983</th>\n",
              "      <td>CN</td>\n",
              "      <td>18375</td>\n",
              "    </tr>\n",
              "    <tr>\n",
              "      <th>7984</th>\n",
              "      <td>CN</td>\n",
              "      <td>36041</td>\n",
              "    </tr>\n",
              "    <tr>\n",
              "      <th>7985</th>\n",
              "      <td>CN</td>\n",
              "      <td>45690</td>\n",
              "    </tr>\n",
              "    <tr>\n",
              "      <th>7986</th>\n",
              "      <td>CN</td>\n",
              "      <td>61027</td>\n",
              "    </tr>\n",
              "    <tr>\n",
              "      <th>7987</th>\n",
              "      <td>CN</td>\n",
              "      <td>61340</td>\n",
              "    </tr>\n",
              "  </tbody>\n",
              "</table>\n",
              "<p>7476 rows × 2 columns</p>\n",
              "</div>\n",
              "      <button class=\"colab-df-convert\" onclick=\"convertToInteractive('df-d58dd2ae-1ec3-45ef-8836-6c7823b1ef66')\"\n",
              "              title=\"Convert this dataframe to an interactive table.\"\n",
              "              style=\"display:none;\">\n",
              "        \n",
              "  <svg xmlns=\"http://www.w3.org/2000/svg\" height=\"24px\"viewBox=\"0 0 24 24\"\n",
              "       width=\"24px\">\n",
              "    <path d=\"M0 0h24v24H0V0z\" fill=\"none\"/>\n",
              "    <path d=\"M18.56 5.44l.94 2.06.94-2.06 2.06-.94-2.06-.94-.94-2.06-.94 2.06-2.06.94zm-11 1L8.5 8.5l.94-2.06 2.06-.94-2.06-.94L8.5 2.5l-.94 2.06-2.06.94zm10 10l.94 2.06.94-2.06 2.06-.94-2.06-.94-.94-2.06-.94 2.06-2.06.94z\"/><path d=\"M17.41 7.96l-1.37-1.37c-.4-.4-.92-.59-1.43-.59-.52 0-1.04.2-1.43.59L10.3 9.45l-7.72 7.72c-.78.78-.78 2.05 0 2.83L4 21.41c.39.39.9.59 1.41.59.51 0 1.02-.2 1.41-.59l7.78-7.78 2.81-2.81c.8-.78.8-2.07 0-2.86zM5.41 20L4 18.59l7.72-7.72 1.47 1.35L5.41 20z\"/>\n",
              "  </svg>\n",
              "      </button>\n",
              "      \n",
              "  <style>\n",
              "    .colab-df-container {\n",
              "      display:flex;\n",
              "      flex-wrap:wrap;\n",
              "      gap: 12px;\n",
              "    }\n",
              "\n",
              "    .colab-df-convert {\n",
              "      background-color: #E8F0FE;\n",
              "      border: none;\n",
              "      border-radius: 50%;\n",
              "      cursor: pointer;\n",
              "      display: none;\n",
              "      fill: #1967D2;\n",
              "      height: 32px;\n",
              "      padding: 0 0 0 0;\n",
              "      width: 32px;\n",
              "    }\n",
              "\n",
              "    .colab-df-convert:hover {\n",
              "      background-color: #E2EBFA;\n",
              "      box-shadow: 0px 1px 2px rgba(60, 64, 67, 0.3), 0px 1px 3px 1px rgba(60, 64, 67, 0.15);\n",
              "      fill: #174EA6;\n",
              "    }\n",
              "\n",
              "    [theme=dark] .colab-df-convert {\n",
              "      background-color: #3B4455;\n",
              "      fill: #D2E3FC;\n",
              "    }\n",
              "\n",
              "    [theme=dark] .colab-df-convert:hover {\n",
              "      background-color: #434B5C;\n",
              "      box-shadow: 0px 1px 3px 1px rgba(0, 0, 0, 0.15);\n",
              "      filter: drop-shadow(0px 1px 2px rgba(0, 0, 0, 0.3));\n",
              "      fill: #FFFFFF;\n",
              "    }\n",
              "  </style>\n",
              "\n",
              "      <script>\n",
              "        const buttonEl =\n",
              "          document.querySelector('#df-d58dd2ae-1ec3-45ef-8836-6c7823b1ef66 button.colab-df-convert');\n",
              "        buttonEl.style.display =\n",
              "          google.colab.kernel.accessAllowed ? 'block' : 'none';\n",
              "\n",
              "        async function convertToInteractive(key) {\n",
              "          const element = document.querySelector('#df-d58dd2ae-1ec3-45ef-8836-6c7823b1ef66');\n",
              "          const dataTable =\n",
              "            await google.colab.kernel.invokeFunction('convertToInteractive',\n",
              "                                                     [key], {});\n",
              "          if (!dataTable) return;\n",
              "\n",
              "          const docLinkHtml = 'Like what you see? Visit the ' +\n",
              "            '<a target=\"_blank\" href=https://colab.research.google.com/notebooks/data_table.ipynb>data table notebook</a>'\n",
              "            + ' to learn more about interactive tables.';\n",
              "          element.innerHTML = '';\n",
              "          dataTable['output_type'] = 'display_data';\n",
              "          await google.colab.output.renderOutput(dataTable, element);\n",
              "          const docLink = document.createElement('div');\n",
              "          docLink.innerHTML = docLinkHtml;\n",
              "          element.appendChild(docLink);\n",
              "        }\n",
              "      </script>\n",
              "    </div>\n",
              "  </div>\n",
              "  "
            ]
          },
          "metadata": {},
          "execution_count": 76
        }
      ]
    },
    {
      "cell_type": "code",
      "source": [
        "country_members.groupby(['WORK_COUNTRY'])['MEMBER_NO'].count()"
      ],
      "metadata": {
        "colab": {
          "base_uri": "https://localhost:8080/"
        },
        "id": "dBdpD3Lsue1R",
        "outputId": "7ac7b16d-2f9f-4105-e254-1c11cdba19b4"
      },
      "execution_count": 77,
      "outputs": [
        {
          "output_type": "execute_result",
          "data": {
            "text/plain": [
              "WORK_COUNTRY\n",
              "AR       1\n",
              "AT       1\n",
              "AU      10\n",
              "BE       1\n",
              "BG       1\n",
              "BR       1\n",
              "CA      14\n",
              "CH       1\n",
              "CL       1\n",
              "CN    7083\n",
              "CR       1\n",
              "DE       6\n",
              "DK       2\n",
              "ES       2\n",
              "FR       1\n",
              "GB       4\n",
              "HK      40\n",
              "IA       1\n",
              "ID       2\n",
              "IT       1\n",
              "JP      34\n",
              "KA       1\n",
              "KR     157\n",
              "LA       2\n",
              "MY      10\n",
              "NG       2\n",
              "NI       2\n",
              "NL       2\n",
              "PH       5\n",
              "SA       2\n",
              "SG      11\n",
              "TH       1\n",
              "TR       2\n",
              "TW      15\n",
              "US      44\n",
              "UY       1\n",
              "VN       1\n",
              "ZA       1\n",
              "cn       1\n",
              "中        8\n",
              "Name: MEMBER_NO, dtype: int64"
            ]
          },
          "metadata": {},
          "execution_count": 77
        }
      ]
    },
    {
      "cell_type": "code",
      "source": [
        "country_members.groupby(['WORK_COUNTRY'])['MEMBER_NO'].count().sort_values(ascending = False)"
      ],
      "metadata": {
        "colab": {
          "base_uri": "https://localhost:8080/"
        },
        "id": "_aXi_FEHue5B",
        "outputId": "30246af1-47ef-43c4-f173-dee120081e5e"
      },
      "execution_count": 78,
      "outputs": [
        {
          "output_type": "execute_result",
          "data": {
            "text/plain": [
              "WORK_COUNTRY\n",
              "CN    7083\n",
              "KR     157\n",
              "US      44\n",
              "HK      40\n",
              "JP      34\n",
              "TW      15\n",
              "CA      14\n",
              "SG      11\n",
              "AU      10\n",
              "MY      10\n",
              "中        8\n",
              "DE       6\n",
              "PH       5\n",
              "GB       4\n",
              "LA       2\n",
              "TR       2\n",
              "SA       2\n",
              "NL       2\n",
              "NI       2\n",
              "DK       2\n",
              "NG       2\n",
              "ID       2\n",
              "ES       2\n",
              "KA       1\n",
              "TH       1\n",
              "cn       1\n",
              "ZA       1\n",
              "VN       1\n",
              "UY       1\n",
              "BE       1\n",
              "BG       1\n",
              "BR       1\n",
              "CL       1\n",
              "FR       1\n",
              "CR       1\n",
              "IA       1\n",
              "IT       1\n",
              "CH       1\n",
              "AT       1\n",
              "AR       1\n",
              "Name: MEMBER_NO, dtype: int64"
            ]
          },
          "metadata": {},
          "execution_count": 78
        }
      ]
    },
    {
      "cell_type": "markdown",
      "source": [
        "- if we start creating a faetures for work_country it has 40unique values it will create a 40 different featues if we encode it or process it. so what we are trying to do is to remove the unwanted object \n",
        "- by using isin() function it reduces the value to the give value only"
      ],
      "metadata": {
        "id": "DECH2jZCyoWk"
      }
    },
    {
      "cell_type": "code",
      "source": [
        "data = data[data.WORK_COUNTRY.isin(['CN','KR','US','HK','JP'])]"
      ],
      "metadata": {
        "id": "FiZGmn5Lue61"
      },
      "execution_count": 79,
      "outputs": []
    },
    {
      "cell_type": "code",
      "source": [
        "data.shape"
      ],
      "metadata": {
        "colab": {
          "base_uri": "https://localhost:8080/"
        },
        "id": "KCFQMG9Xue-i",
        "outputId": "8ff00ea2-1468-4c53-9096-69cbb3f4a1b9"
      },
      "execution_count": 80,
      "outputs": [
        {
          "output_type": "execute_result",
          "data": {
            "text/plain": [
              "(7358, 23)"
            ]
          },
          "metadata": {},
          "execution_count": 80
        }
      ]
    },
    {
      "cell_type": "code",
      "source": [
        "data.WORK_COUNTRY.unique()"
      ],
      "metadata": {
        "colab": {
          "base_uri": "https://localhost:8080/"
        },
        "id": "Ec4BMHoXufAi",
        "outputId": "5f62da8a-48e9-4972-d36c-2e38be252a36"
      },
      "execution_count": 81,
      "outputs": [
        {
          "output_type": "execute_result",
          "data": {
            "text/plain": [
              "array(['CN', 'HK', 'KR', 'US', 'JP'], dtype=object)"
            ]
          },
          "metadata": {},
          "execution_count": 81
        }
      ]
    },
    {
      "cell_type": "code",
      "source": [
        "data.info()"
      ],
      "metadata": {
        "colab": {
          "base_uri": "https://localhost:8080/"
        },
        "id": "lMtY0nAvufDu",
        "outputId": "088228c7-3f89-4f3b-a2a4-21a5b0100615"
      },
      "execution_count": 82,
      "outputs": [
        {
          "output_type": "stream",
          "name": "stdout",
          "text": [
            "<class 'pandas.core.frame.DataFrame'>\n",
            "Int64Index: 7358 entries, 0 to 7987\n",
            "Data columns (total 23 columns):\n",
            " #   Column             Non-Null Count  Dtype  \n",
            "---  ------             --------------  -----  \n",
            " 0   MEMBER_NO          7358 non-null   int64  \n",
            " 1   FFP_DATE           7358 non-null   object \n",
            " 2   FIRST_FLIGHT_DATE  7358 non-null   object \n",
            " 3   GENDER             7358 non-null   object \n",
            " 4   FFP_TIER           7358 non-null   int64  \n",
            " 5   WORK_CITY          7358 non-null   object \n",
            " 6   WORK_PROVINCE      7358 non-null   object \n",
            " 7   WORK_COUNTRY       7358 non-null   object \n",
            " 8   AGE                7358 non-null   float64\n",
            " 9   LOAD_TIME          7358 non-null   object \n",
            " 10  FLIGHT_COUNT       7358 non-null   int64  \n",
            " 11  BP_SUM             7358 non-null   int64  \n",
            " 12  SUM_YR_1           7358 non-null   float64\n",
            " 13  SUM_YR_2           7358 non-null   float64\n",
            " 14  SEG_KM_SUM         7358 non-null   int64  \n",
            " 15  LAST_FLIGHT_DATE   7358 non-null   object \n",
            " 16  LAST_TO_END        7358 non-null   int64  \n",
            " 17  AVG_INTERVAL       7358 non-null   float64\n",
            " 18  MAX_INTERVAL       7358 non-null   int64  \n",
            " 19  EXCHANGE_COUNT     7358 non-null   int64  \n",
            " 20  avg_discount       7358 non-null   float64\n",
            " 21  Points_Sum         7358 non-null   int64  \n",
            " 22  Point_NotFlight    7358 non-null   int64  \n",
            "dtypes: float64(5), int64(10), object(8)\n",
            "memory usage: 1.3+ MB\n"
          ]
        }
      ]
    },
    {
      "cell_type": "code",
      "source": [
        "#dropping unwanted column\n",
        "\n",
        "data.drop(columns = ['MEMBER_NO','FFP_DATE','FIRST_FLIGHT_DATE','LAST_FLIGHT_DATE','LOAD_TIME'], axis = 1,inplace = True)"
      ],
      "metadata": {
        "colab": {
          "base_uri": "https://localhost:8080/"
        },
        "id": "_N76Uk1fufFX",
        "outputId": "c22203b0-3769-4b74-df40-8b6f35e3884c"
      },
      "execution_count": 83,
      "outputs": [
        {
          "output_type": "stream",
          "name": "stderr",
          "text": [
            "/usr/local/lib/python3.7/dist-packages/pandas/core/frame.py:4913: SettingWithCopyWarning: \n",
            "A value is trying to be set on a copy of a slice from a DataFrame\n",
            "\n",
            "See the caveats in the documentation: https://pandas.pydata.org/pandas-docs/stable/user_guide/indexing.html#returning-a-view-versus-a-copy\n",
            "  errors=errors,\n"
          ]
        }
      ]
    },
    {
      "cell_type": "code",
      "source": [
        "data.dtypes"
      ],
      "metadata": {
        "colab": {
          "base_uri": "https://localhost:8080/"
        },
        "id": "HM2ZeU9hufJX",
        "outputId": "f9007f2e-c37b-4288-fe76-64f4a30e9528"
      },
      "execution_count": 84,
      "outputs": [
        {
          "output_type": "execute_result",
          "data": {
            "text/plain": [
              "GENDER              object\n",
              "FFP_TIER             int64\n",
              "WORK_CITY           object\n",
              "WORK_PROVINCE       object\n",
              "WORK_COUNTRY        object\n",
              "AGE                float64\n",
              "FLIGHT_COUNT         int64\n",
              "BP_SUM               int64\n",
              "SUM_YR_1           float64\n",
              "SUM_YR_2           float64\n",
              "SEG_KM_SUM           int64\n",
              "LAST_TO_END          int64\n",
              "AVG_INTERVAL       float64\n",
              "MAX_INTERVAL         int64\n",
              "EXCHANGE_COUNT       int64\n",
              "avg_discount       float64\n",
              "Points_Sum           int64\n",
              "Point_NotFlight      int64\n",
              "dtype: object"
            ]
          },
          "metadata": {},
          "execution_count": 84
        }
      ]
    },
    {
      "cell_type": "code",
      "source": [
        "#dropping unwanted column\n",
        "\n",
        "data.drop(columns = ['WORK_PROVINCE','WORK_CITY'], axis = 1,inplace = True)"
      ],
      "metadata": {
        "id": "wO_FFcfnufLA"
      },
      "execution_count": 85,
      "outputs": []
    },
    {
      "cell_type": "code",
      "source": [
        "data.dtypes"
      ],
      "metadata": {
        "colab": {
          "base_uri": "https://localhost:8080/"
        },
        "id": "5oD3UIh5ufPS",
        "outputId": "1f1dc03f-518d-4e9f-fe60-2e9c05df5622"
      },
      "execution_count": 86,
      "outputs": [
        {
          "output_type": "execute_result",
          "data": {
            "text/plain": [
              "GENDER              object\n",
              "FFP_TIER             int64\n",
              "WORK_COUNTRY        object\n",
              "AGE                float64\n",
              "FLIGHT_COUNT         int64\n",
              "BP_SUM               int64\n",
              "SUM_YR_1           float64\n",
              "SUM_YR_2           float64\n",
              "SEG_KM_SUM           int64\n",
              "LAST_TO_END          int64\n",
              "AVG_INTERVAL       float64\n",
              "MAX_INTERVAL         int64\n",
              "EXCHANGE_COUNT       int64\n",
              "avg_discount       float64\n",
              "Points_Sum           int64\n",
              "Point_NotFlight      int64\n",
              "dtype: object"
            ]
          },
          "metadata": {},
          "execution_count": 86
        }
      ]
    },
    {
      "cell_type": "code",
      "source": [
        "data.isnull().sum()"
      ],
      "metadata": {
        "colab": {
          "base_uri": "https://localhost:8080/"
        },
        "id": "NYTHXAfrufSR",
        "outputId": "424e8eb8-74f7-43e9-be35-758536503931"
      },
      "execution_count": 87,
      "outputs": [
        {
          "output_type": "execute_result",
          "data": {
            "text/plain": [
              "GENDER             0\n",
              "FFP_TIER           0\n",
              "WORK_COUNTRY       0\n",
              "AGE                0\n",
              "FLIGHT_COUNT       0\n",
              "BP_SUM             0\n",
              "SUM_YR_1           0\n",
              "SUM_YR_2           0\n",
              "SEG_KM_SUM         0\n",
              "LAST_TO_END        0\n",
              "AVG_INTERVAL       0\n",
              "MAX_INTERVAL       0\n",
              "EXCHANGE_COUNT     0\n",
              "avg_discount       0\n",
              "Points_Sum         0\n",
              "Point_NotFlight    0\n",
              "dtype: int64"
            ]
          },
          "metadata": {},
          "execution_count": 87
        }
      ]
    },
    {
      "cell_type": "markdown",
      "source": [
        "#Preprocessing \n",
        "- we normally uses OneHotEncoder to covert srting to numeric data\n",
        "- if we want to use onehot encoder we will require x_train,y_train\n",
        "- we also have another method which will be helpful in creating a dummy datas pd.get_dummies() it as a disadavntage we cannot use this again and again not like onehotencoder we can use multiple times\n",
        "- for learning we use grt_dummies"
      ],
      "metadata": {
        "id": "wdlKCGwK2O96"
      }
    },
    {
      "cell_type": "code",
      "source": [
        "data = pd.get_dummies(data, columns= ['WORK_COUNTRY'])"
      ],
      "metadata": {
        "id": "Rxk1fQT82NJB"
      },
      "execution_count": 88,
      "outputs": []
    },
    {
      "cell_type": "code",
      "source": [
        "data.shape"
      ],
      "metadata": {
        "colab": {
          "base_uri": "https://localhost:8080/"
        },
        "id": "nrioVXKe2NLh",
        "outputId": "08157a60-e367-44a7-daf0-98dd303a3332"
      },
      "execution_count": 89,
      "outputs": [
        {
          "output_type": "execute_result",
          "data": {
            "text/plain": [
              "(7358, 20)"
            ]
          },
          "metadata": {},
          "execution_count": 89
        }
      ]
    },
    {
      "cell_type": "code",
      "source": [
        "#it already updated the work_country in a numerical format\n",
        "data.head()"
      ],
      "metadata": {
        "colab": {
          "base_uri": "https://localhost:8080/",
          "height": 270
        },
        "id": "F9lvE5N72NOw",
        "outputId": "77fcf25e-5cc4-47be-ed04-d64da52d37ea"
      },
      "execution_count": 90,
      "outputs": [
        {
          "output_type": "execute_result",
          "data": {
            "text/plain": [
              "   GENDER  FFP_TIER   AGE  FLIGHT_COUNT  BP_SUM  SUM_YR_1  SUM_YR_2  \\\n",
              "0    Male         4  29.0             2    1677    1830.0       0.0   \n",
              "1  Female         4  43.0             3    1731     960.0     984.0   \n",
              "2    Male         4  31.0             3    1626    1992.0       0.0   \n",
              "3    Male         4  30.0             4    1786    2013.0     485.0   \n",
              "4    Male         4  40.0             3    1646    1555.0     442.0   \n",
              "\n",
              "   SEG_KM_SUM  LAST_TO_END  AVG_INTERVAL  MAX_INTERVAL  EXCHANGE_COUNT  \\\n",
              "0        2005          549         120.0           120               0   \n",
              "1        2301           57         252.0           477               0   \n",
              "2        2397          385         115.5           167               0   \n",
              "3        2852          288          86.0           174               0   \n",
              "4        3777           36         268.5           536               0   \n",
              "\n",
              "   avg_discount  Points_Sum  Point_NotFlight  WORK_COUNTRY_CN  \\\n",
              "0      1.000000        2879                6                1   \n",
              "1      0.871291        1731                0                1   \n",
              "2      0.836358        1626                0                1   \n",
              "3      0.702924        1786                0                1   \n",
              "4      0.530725        3639               22                1   \n",
              "\n",
              "   WORK_COUNTRY_HK  WORK_COUNTRY_JP  WORK_COUNTRY_KR  WORK_COUNTRY_US  \n",
              "0                0                0                0                0  \n",
              "1                0                0                0                0  \n",
              "2                0                0                0                0  \n",
              "3                0                0                0                0  \n",
              "4                0                0                0                0  "
            ],
            "text/html": [
              "\n",
              "  <div id=\"df-9ebfcf6d-214c-4584-a637-1b348c8f092b\">\n",
              "    <div class=\"colab-df-container\">\n",
              "      <div>\n",
              "<style scoped>\n",
              "    .dataframe tbody tr th:only-of-type {\n",
              "        vertical-align: middle;\n",
              "    }\n",
              "\n",
              "    .dataframe tbody tr th {\n",
              "        vertical-align: top;\n",
              "    }\n",
              "\n",
              "    .dataframe thead th {\n",
              "        text-align: right;\n",
              "    }\n",
              "</style>\n",
              "<table border=\"1\" class=\"dataframe\">\n",
              "  <thead>\n",
              "    <tr style=\"text-align: right;\">\n",
              "      <th></th>\n",
              "      <th>GENDER</th>\n",
              "      <th>FFP_TIER</th>\n",
              "      <th>AGE</th>\n",
              "      <th>FLIGHT_COUNT</th>\n",
              "      <th>BP_SUM</th>\n",
              "      <th>SUM_YR_1</th>\n",
              "      <th>SUM_YR_2</th>\n",
              "      <th>SEG_KM_SUM</th>\n",
              "      <th>LAST_TO_END</th>\n",
              "      <th>AVG_INTERVAL</th>\n",
              "      <th>MAX_INTERVAL</th>\n",
              "      <th>EXCHANGE_COUNT</th>\n",
              "      <th>avg_discount</th>\n",
              "      <th>Points_Sum</th>\n",
              "      <th>Point_NotFlight</th>\n",
              "      <th>WORK_COUNTRY_CN</th>\n",
              "      <th>WORK_COUNTRY_HK</th>\n",
              "      <th>WORK_COUNTRY_JP</th>\n",
              "      <th>WORK_COUNTRY_KR</th>\n",
              "      <th>WORK_COUNTRY_US</th>\n",
              "    </tr>\n",
              "  </thead>\n",
              "  <tbody>\n",
              "    <tr>\n",
              "      <th>0</th>\n",
              "      <td>Male</td>\n",
              "      <td>4</td>\n",
              "      <td>29.0</td>\n",
              "      <td>2</td>\n",
              "      <td>1677</td>\n",
              "      <td>1830.0</td>\n",
              "      <td>0.0</td>\n",
              "      <td>2005</td>\n",
              "      <td>549</td>\n",
              "      <td>120.0</td>\n",
              "      <td>120</td>\n",
              "      <td>0</td>\n",
              "      <td>1.000000</td>\n",
              "      <td>2879</td>\n",
              "      <td>6</td>\n",
              "      <td>1</td>\n",
              "      <td>0</td>\n",
              "      <td>0</td>\n",
              "      <td>0</td>\n",
              "      <td>0</td>\n",
              "    </tr>\n",
              "    <tr>\n",
              "      <th>1</th>\n",
              "      <td>Female</td>\n",
              "      <td>4</td>\n",
              "      <td>43.0</td>\n",
              "      <td>3</td>\n",
              "      <td>1731</td>\n",
              "      <td>960.0</td>\n",
              "      <td>984.0</td>\n",
              "      <td>2301</td>\n",
              "      <td>57</td>\n",
              "      <td>252.0</td>\n",
              "      <td>477</td>\n",
              "      <td>0</td>\n",
              "      <td>0.871291</td>\n",
              "      <td>1731</td>\n",
              "      <td>0</td>\n",
              "      <td>1</td>\n",
              "      <td>0</td>\n",
              "      <td>0</td>\n",
              "      <td>0</td>\n",
              "      <td>0</td>\n",
              "    </tr>\n",
              "    <tr>\n",
              "      <th>2</th>\n",
              "      <td>Male</td>\n",
              "      <td>4</td>\n",
              "      <td>31.0</td>\n",
              "      <td>3</td>\n",
              "      <td>1626</td>\n",
              "      <td>1992.0</td>\n",
              "      <td>0.0</td>\n",
              "      <td>2397</td>\n",
              "      <td>385</td>\n",
              "      <td>115.5</td>\n",
              "      <td>167</td>\n",
              "      <td>0</td>\n",
              "      <td>0.836358</td>\n",
              "      <td>1626</td>\n",
              "      <td>0</td>\n",
              "      <td>1</td>\n",
              "      <td>0</td>\n",
              "      <td>0</td>\n",
              "      <td>0</td>\n",
              "      <td>0</td>\n",
              "    </tr>\n",
              "    <tr>\n",
              "      <th>3</th>\n",
              "      <td>Male</td>\n",
              "      <td>4</td>\n",
              "      <td>30.0</td>\n",
              "      <td>4</td>\n",
              "      <td>1786</td>\n",
              "      <td>2013.0</td>\n",
              "      <td>485.0</td>\n",
              "      <td>2852</td>\n",
              "      <td>288</td>\n",
              "      <td>86.0</td>\n",
              "      <td>174</td>\n",
              "      <td>0</td>\n",
              "      <td>0.702924</td>\n",
              "      <td>1786</td>\n",
              "      <td>0</td>\n",
              "      <td>1</td>\n",
              "      <td>0</td>\n",
              "      <td>0</td>\n",
              "      <td>0</td>\n",
              "      <td>0</td>\n",
              "    </tr>\n",
              "    <tr>\n",
              "      <th>4</th>\n",
              "      <td>Male</td>\n",
              "      <td>4</td>\n",
              "      <td>40.0</td>\n",
              "      <td>3</td>\n",
              "      <td>1646</td>\n",
              "      <td>1555.0</td>\n",
              "      <td>442.0</td>\n",
              "      <td>3777</td>\n",
              "      <td>36</td>\n",
              "      <td>268.5</td>\n",
              "      <td>536</td>\n",
              "      <td>0</td>\n",
              "      <td>0.530725</td>\n",
              "      <td>3639</td>\n",
              "      <td>22</td>\n",
              "      <td>1</td>\n",
              "      <td>0</td>\n",
              "      <td>0</td>\n",
              "      <td>0</td>\n",
              "      <td>0</td>\n",
              "    </tr>\n",
              "  </tbody>\n",
              "</table>\n",
              "</div>\n",
              "      <button class=\"colab-df-convert\" onclick=\"convertToInteractive('df-9ebfcf6d-214c-4584-a637-1b348c8f092b')\"\n",
              "              title=\"Convert this dataframe to an interactive table.\"\n",
              "              style=\"display:none;\">\n",
              "        \n",
              "  <svg xmlns=\"http://www.w3.org/2000/svg\" height=\"24px\"viewBox=\"0 0 24 24\"\n",
              "       width=\"24px\">\n",
              "    <path d=\"M0 0h24v24H0V0z\" fill=\"none\"/>\n",
              "    <path d=\"M18.56 5.44l.94 2.06.94-2.06 2.06-.94-2.06-.94-.94-2.06-.94 2.06-2.06.94zm-11 1L8.5 8.5l.94-2.06 2.06-.94-2.06-.94L8.5 2.5l-.94 2.06-2.06.94zm10 10l.94 2.06.94-2.06 2.06-.94-2.06-.94-.94-2.06-.94 2.06-2.06.94z\"/><path d=\"M17.41 7.96l-1.37-1.37c-.4-.4-.92-.59-1.43-.59-.52 0-1.04.2-1.43.59L10.3 9.45l-7.72 7.72c-.78.78-.78 2.05 0 2.83L4 21.41c.39.39.9.59 1.41.59.51 0 1.02-.2 1.41-.59l7.78-7.78 2.81-2.81c.8-.78.8-2.07 0-2.86zM5.41 20L4 18.59l7.72-7.72 1.47 1.35L5.41 20z\"/>\n",
              "  </svg>\n",
              "      </button>\n",
              "      \n",
              "  <style>\n",
              "    .colab-df-container {\n",
              "      display:flex;\n",
              "      flex-wrap:wrap;\n",
              "      gap: 12px;\n",
              "    }\n",
              "\n",
              "    .colab-df-convert {\n",
              "      background-color: #E8F0FE;\n",
              "      border: none;\n",
              "      border-radius: 50%;\n",
              "      cursor: pointer;\n",
              "      display: none;\n",
              "      fill: #1967D2;\n",
              "      height: 32px;\n",
              "      padding: 0 0 0 0;\n",
              "      width: 32px;\n",
              "    }\n",
              "\n",
              "    .colab-df-convert:hover {\n",
              "      background-color: #E2EBFA;\n",
              "      box-shadow: 0px 1px 2px rgba(60, 64, 67, 0.3), 0px 1px 3px 1px rgba(60, 64, 67, 0.15);\n",
              "      fill: #174EA6;\n",
              "    }\n",
              "\n",
              "    [theme=dark] .colab-df-convert {\n",
              "      background-color: #3B4455;\n",
              "      fill: #D2E3FC;\n",
              "    }\n",
              "\n",
              "    [theme=dark] .colab-df-convert:hover {\n",
              "      background-color: #434B5C;\n",
              "      box-shadow: 0px 1px 3px 1px rgba(0, 0, 0, 0.15);\n",
              "      filter: drop-shadow(0px 1px 2px rgba(0, 0, 0, 0.3));\n",
              "      fill: #FFFFFF;\n",
              "    }\n",
              "  </style>\n",
              "\n",
              "      <script>\n",
              "        const buttonEl =\n",
              "          document.querySelector('#df-9ebfcf6d-214c-4584-a637-1b348c8f092b button.colab-df-convert');\n",
              "        buttonEl.style.display =\n",
              "          google.colab.kernel.accessAllowed ? 'block' : 'none';\n",
              "\n",
              "        async function convertToInteractive(key) {\n",
              "          const element = document.querySelector('#df-9ebfcf6d-214c-4584-a637-1b348c8f092b');\n",
              "          const dataTable =\n",
              "            await google.colab.kernel.invokeFunction('convertToInteractive',\n",
              "                                                     [key], {});\n",
              "          if (!dataTable) return;\n",
              "\n",
              "          const docLinkHtml = 'Like what you see? Visit the ' +\n",
              "            '<a target=\"_blank\" href=https://colab.research.google.com/notebooks/data_table.ipynb>data table notebook</a>'\n",
              "            + ' to learn more about interactive tables.';\n",
              "          element.innerHTML = '';\n",
              "          dataTable['output_type'] = 'display_data';\n",
              "          await google.colab.output.renderOutput(dataTable, element);\n",
              "          const docLink = document.createElement('div');\n",
              "          docLink.innerHTML = docLinkHtml;\n",
              "          element.appendChild(docLink);\n",
              "        }\n",
              "      </script>\n",
              "    </div>\n",
              "  </div>\n",
              "  "
            ]
          },
          "metadata": {},
          "execution_count": 90
        }
      ]
    },
    {
      "cell_type": "code",
      "source": [
        "data.dtypes"
      ],
      "metadata": {
        "colab": {
          "base_uri": "https://localhost:8080/"
        },
        "id": "FjJkwkKm2NRA",
        "outputId": "5936ce0c-9a7e-4afd-da2a-57737365704f"
      },
      "execution_count": 91,
      "outputs": [
        {
          "output_type": "execute_result",
          "data": {
            "text/plain": [
              "GENDER              object\n",
              "FFP_TIER             int64\n",
              "AGE                float64\n",
              "FLIGHT_COUNT         int64\n",
              "BP_SUM               int64\n",
              "SUM_YR_1           float64\n",
              "SUM_YR_2           float64\n",
              "SEG_KM_SUM           int64\n",
              "LAST_TO_END          int64\n",
              "AVG_INTERVAL       float64\n",
              "MAX_INTERVAL         int64\n",
              "EXCHANGE_COUNT       int64\n",
              "avg_discount       float64\n",
              "Points_Sum           int64\n",
              "Point_NotFlight      int64\n",
              "WORK_COUNTRY_CN      uint8\n",
              "WORK_COUNTRY_HK      uint8\n",
              "WORK_COUNTRY_JP      uint8\n",
              "WORK_COUNTRY_KR      uint8\n",
              "WORK_COUNTRY_US      uint8\n",
              "dtype: object"
            ]
          },
          "metadata": {},
          "execution_count": 91
        }
      ]
    },
    {
      "cell_type": "code",
      "source": [
        "data = pd.get_dummies(data, columns= ['GENDER'])"
      ],
      "metadata": {
        "id": "ZJPz35hB2NT8"
      },
      "execution_count": 92,
      "outputs": []
    },
    {
      "cell_type": "code",
      "source": [
        "data.shape"
      ],
      "metadata": {
        "colab": {
          "base_uri": "https://localhost:8080/"
        },
        "id": "b9aceL3V2NYQ",
        "outputId": "b55d3952-29be-459b-e271-b2160ab7c632"
      },
      "execution_count": 93,
      "outputs": [
        {
          "output_type": "execute_result",
          "data": {
            "text/plain": [
              "(7358, 21)"
            ]
          },
          "metadata": {},
          "execution_count": 93
        }
      ]
    },
    {
      "cell_type": "code",
      "source": [
        "data.dtypes"
      ],
      "metadata": {
        "colab": {
          "base_uri": "https://localhost:8080/"
        },
        "id": "6rKUy4vm2Nci",
        "outputId": "76fb965f-9031-4171-9751-efdb602b21da"
      },
      "execution_count": 94,
      "outputs": [
        {
          "output_type": "execute_result",
          "data": {
            "text/plain": [
              "FFP_TIER             int64\n",
              "AGE                float64\n",
              "FLIGHT_COUNT         int64\n",
              "BP_SUM               int64\n",
              "SUM_YR_1           float64\n",
              "SUM_YR_2           float64\n",
              "SEG_KM_SUM           int64\n",
              "LAST_TO_END          int64\n",
              "AVG_INTERVAL       float64\n",
              "MAX_INTERVAL         int64\n",
              "EXCHANGE_COUNT       int64\n",
              "avg_discount       float64\n",
              "Points_Sum           int64\n",
              "Point_NotFlight      int64\n",
              "WORK_COUNTRY_CN      uint8\n",
              "WORK_COUNTRY_HK      uint8\n",
              "WORK_COUNTRY_JP      uint8\n",
              "WORK_COUNTRY_KR      uint8\n",
              "WORK_COUNTRY_US      uint8\n",
              "GENDER_Female        uint8\n",
              "GENDER_Male          uint8\n",
              "dtype: object"
            ]
          },
          "metadata": {},
          "execution_count": 94
        }
      ]
    },
    {
      "cell_type": "code",
      "source": [
        "data.head()"
      ],
      "metadata": {
        "colab": {
          "base_uri": "https://localhost:8080/",
          "height": 300
        },
        "id": "9kOy3Jsa2Nf5",
        "outputId": "9d05f8c6-cc93-453e-eabc-740a96e2e869"
      },
      "execution_count": 95,
      "outputs": [
        {
          "output_type": "execute_result",
          "data": {
            "text/plain": [
              "   FFP_TIER   AGE  FLIGHT_COUNT  BP_SUM  SUM_YR_1  SUM_YR_2  SEG_KM_SUM  \\\n",
              "0         4  29.0             2    1677    1830.0       0.0        2005   \n",
              "1         4  43.0             3    1731     960.0     984.0        2301   \n",
              "2         4  31.0             3    1626    1992.0       0.0        2397   \n",
              "3         4  30.0             4    1786    2013.0     485.0        2852   \n",
              "4         4  40.0             3    1646    1555.0     442.0        3777   \n",
              "\n",
              "   LAST_TO_END  AVG_INTERVAL  MAX_INTERVAL  ...  avg_discount  Points_Sum  \\\n",
              "0          549         120.0           120  ...      1.000000        2879   \n",
              "1           57         252.0           477  ...      0.871291        1731   \n",
              "2          385         115.5           167  ...      0.836358        1626   \n",
              "3          288          86.0           174  ...      0.702924        1786   \n",
              "4           36         268.5           536  ...      0.530725        3639   \n",
              "\n",
              "   Point_NotFlight  WORK_COUNTRY_CN  WORK_COUNTRY_HK  WORK_COUNTRY_JP  \\\n",
              "0                6                1                0                0   \n",
              "1                0                1                0                0   \n",
              "2                0                1                0                0   \n",
              "3                0                1                0                0   \n",
              "4               22                1                0                0   \n",
              "\n",
              "   WORK_COUNTRY_KR  WORK_COUNTRY_US  GENDER_Female  GENDER_Male  \n",
              "0                0                0              0            1  \n",
              "1                0                0              1            0  \n",
              "2                0                0              0            1  \n",
              "3                0                0              0            1  \n",
              "4                0                0              0            1  \n",
              "\n",
              "[5 rows x 21 columns]"
            ],
            "text/html": [
              "\n",
              "  <div id=\"df-4e4c6cf5-ead0-4c4a-a55a-62f7511315a2\">\n",
              "    <div class=\"colab-df-container\">\n",
              "      <div>\n",
              "<style scoped>\n",
              "    .dataframe tbody tr th:only-of-type {\n",
              "        vertical-align: middle;\n",
              "    }\n",
              "\n",
              "    .dataframe tbody tr th {\n",
              "        vertical-align: top;\n",
              "    }\n",
              "\n",
              "    .dataframe thead th {\n",
              "        text-align: right;\n",
              "    }\n",
              "</style>\n",
              "<table border=\"1\" class=\"dataframe\">\n",
              "  <thead>\n",
              "    <tr style=\"text-align: right;\">\n",
              "      <th></th>\n",
              "      <th>FFP_TIER</th>\n",
              "      <th>AGE</th>\n",
              "      <th>FLIGHT_COUNT</th>\n",
              "      <th>BP_SUM</th>\n",
              "      <th>SUM_YR_1</th>\n",
              "      <th>SUM_YR_2</th>\n",
              "      <th>SEG_KM_SUM</th>\n",
              "      <th>LAST_TO_END</th>\n",
              "      <th>AVG_INTERVAL</th>\n",
              "      <th>MAX_INTERVAL</th>\n",
              "      <th>...</th>\n",
              "      <th>avg_discount</th>\n",
              "      <th>Points_Sum</th>\n",
              "      <th>Point_NotFlight</th>\n",
              "      <th>WORK_COUNTRY_CN</th>\n",
              "      <th>WORK_COUNTRY_HK</th>\n",
              "      <th>WORK_COUNTRY_JP</th>\n",
              "      <th>WORK_COUNTRY_KR</th>\n",
              "      <th>WORK_COUNTRY_US</th>\n",
              "      <th>GENDER_Female</th>\n",
              "      <th>GENDER_Male</th>\n",
              "    </tr>\n",
              "  </thead>\n",
              "  <tbody>\n",
              "    <tr>\n",
              "      <th>0</th>\n",
              "      <td>4</td>\n",
              "      <td>29.0</td>\n",
              "      <td>2</td>\n",
              "      <td>1677</td>\n",
              "      <td>1830.0</td>\n",
              "      <td>0.0</td>\n",
              "      <td>2005</td>\n",
              "      <td>549</td>\n",
              "      <td>120.0</td>\n",
              "      <td>120</td>\n",
              "      <td>...</td>\n",
              "      <td>1.000000</td>\n",
              "      <td>2879</td>\n",
              "      <td>6</td>\n",
              "      <td>1</td>\n",
              "      <td>0</td>\n",
              "      <td>0</td>\n",
              "      <td>0</td>\n",
              "      <td>0</td>\n",
              "      <td>0</td>\n",
              "      <td>1</td>\n",
              "    </tr>\n",
              "    <tr>\n",
              "      <th>1</th>\n",
              "      <td>4</td>\n",
              "      <td>43.0</td>\n",
              "      <td>3</td>\n",
              "      <td>1731</td>\n",
              "      <td>960.0</td>\n",
              "      <td>984.0</td>\n",
              "      <td>2301</td>\n",
              "      <td>57</td>\n",
              "      <td>252.0</td>\n",
              "      <td>477</td>\n",
              "      <td>...</td>\n",
              "      <td>0.871291</td>\n",
              "      <td>1731</td>\n",
              "      <td>0</td>\n",
              "      <td>1</td>\n",
              "      <td>0</td>\n",
              "      <td>0</td>\n",
              "      <td>0</td>\n",
              "      <td>0</td>\n",
              "      <td>1</td>\n",
              "      <td>0</td>\n",
              "    </tr>\n",
              "    <tr>\n",
              "      <th>2</th>\n",
              "      <td>4</td>\n",
              "      <td>31.0</td>\n",
              "      <td>3</td>\n",
              "      <td>1626</td>\n",
              "      <td>1992.0</td>\n",
              "      <td>0.0</td>\n",
              "      <td>2397</td>\n",
              "      <td>385</td>\n",
              "      <td>115.5</td>\n",
              "      <td>167</td>\n",
              "      <td>...</td>\n",
              "      <td>0.836358</td>\n",
              "      <td>1626</td>\n",
              "      <td>0</td>\n",
              "      <td>1</td>\n",
              "      <td>0</td>\n",
              "      <td>0</td>\n",
              "      <td>0</td>\n",
              "      <td>0</td>\n",
              "      <td>0</td>\n",
              "      <td>1</td>\n",
              "    </tr>\n",
              "    <tr>\n",
              "      <th>3</th>\n",
              "      <td>4</td>\n",
              "      <td>30.0</td>\n",
              "      <td>4</td>\n",
              "      <td>1786</td>\n",
              "      <td>2013.0</td>\n",
              "      <td>485.0</td>\n",
              "      <td>2852</td>\n",
              "      <td>288</td>\n",
              "      <td>86.0</td>\n",
              "      <td>174</td>\n",
              "      <td>...</td>\n",
              "      <td>0.702924</td>\n",
              "      <td>1786</td>\n",
              "      <td>0</td>\n",
              "      <td>1</td>\n",
              "      <td>0</td>\n",
              "      <td>0</td>\n",
              "      <td>0</td>\n",
              "      <td>0</td>\n",
              "      <td>0</td>\n",
              "      <td>1</td>\n",
              "    </tr>\n",
              "    <tr>\n",
              "      <th>4</th>\n",
              "      <td>4</td>\n",
              "      <td>40.0</td>\n",
              "      <td>3</td>\n",
              "      <td>1646</td>\n",
              "      <td>1555.0</td>\n",
              "      <td>442.0</td>\n",
              "      <td>3777</td>\n",
              "      <td>36</td>\n",
              "      <td>268.5</td>\n",
              "      <td>536</td>\n",
              "      <td>...</td>\n",
              "      <td>0.530725</td>\n",
              "      <td>3639</td>\n",
              "      <td>22</td>\n",
              "      <td>1</td>\n",
              "      <td>0</td>\n",
              "      <td>0</td>\n",
              "      <td>0</td>\n",
              "      <td>0</td>\n",
              "      <td>0</td>\n",
              "      <td>1</td>\n",
              "    </tr>\n",
              "  </tbody>\n",
              "</table>\n",
              "<p>5 rows × 21 columns</p>\n",
              "</div>\n",
              "      <button class=\"colab-df-convert\" onclick=\"convertToInteractive('df-4e4c6cf5-ead0-4c4a-a55a-62f7511315a2')\"\n",
              "              title=\"Convert this dataframe to an interactive table.\"\n",
              "              style=\"display:none;\">\n",
              "        \n",
              "  <svg xmlns=\"http://www.w3.org/2000/svg\" height=\"24px\"viewBox=\"0 0 24 24\"\n",
              "       width=\"24px\">\n",
              "    <path d=\"M0 0h24v24H0V0z\" fill=\"none\"/>\n",
              "    <path d=\"M18.56 5.44l.94 2.06.94-2.06 2.06-.94-2.06-.94-.94-2.06-.94 2.06-2.06.94zm-11 1L8.5 8.5l.94-2.06 2.06-.94-2.06-.94L8.5 2.5l-.94 2.06-2.06.94zm10 10l.94 2.06.94-2.06 2.06-.94-2.06-.94-.94-2.06-.94 2.06-2.06.94z\"/><path d=\"M17.41 7.96l-1.37-1.37c-.4-.4-.92-.59-1.43-.59-.52 0-1.04.2-1.43.59L10.3 9.45l-7.72 7.72c-.78.78-.78 2.05 0 2.83L4 21.41c.39.39.9.59 1.41.59.51 0 1.02-.2 1.41-.59l7.78-7.78 2.81-2.81c.8-.78.8-2.07 0-2.86zM5.41 20L4 18.59l7.72-7.72 1.47 1.35L5.41 20z\"/>\n",
              "  </svg>\n",
              "      </button>\n",
              "      \n",
              "  <style>\n",
              "    .colab-df-container {\n",
              "      display:flex;\n",
              "      flex-wrap:wrap;\n",
              "      gap: 12px;\n",
              "    }\n",
              "\n",
              "    .colab-df-convert {\n",
              "      background-color: #E8F0FE;\n",
              "      border: none;\n",
              "      border-radius: 50%;\n",
              "      cursor: pointer;\n",
              "      display: none;\n",
              "      fill: #1967D2;\n",
              "      height: 32px;\n",
              "      padding: 0 0 0 0;\n",
              "      width: 32px;\n",
              "    }\n",
              "\n",
              "    .colab-df-convert:hover {\n",
              "      background-color: #E2EBFA;\n",
              "      box-shadow: 0px 1px 2px rgba(60, 64, 67, 0.3), 0px 1px 3px 1px rgba(60, 64, 67, 0.15);\n",
              "      fill: #174EA6;\n",
              "    }\n",
              "\n",
              "    [theme=dark] .colab-df-convert {\n",
              "      background-color: #3B4455;\n",
              "      fill: #D2E3FC;\n",
              "    }\n",
              "\n",
              "    [theme=dark] .colab-df-convert:hover {\n",
              "      background-color: #434B5C;\n",
              "      box-shadow: 0px 1px 3px 1px rgba(0, 0, 0, 0.15);\n",
              "      filter: drop-shadow(0px 1px 2px rgba(0, 0, 0, 0.3));\n",
              "      fill: #FFFFFF;\n",
              "    }\n",
              "  </style>\n",
              "\n",
              "      <script>\n",
              "        const buttonEl =\n",
              "          document.querySelector('#df-4e4c6cf5-ead0-4c4a-a55a-62f7511315a2 button.colab-df-convert');\n",
              "        buttonEl.style.display =\n",
              "          google.colab.kernel.accessAllowed ? 'block' : 'none';\n",
              "\n",
              "        async function convertToInteractive(key) {\n",
              "          const element = document.querySelector('#df-4e4c6cf5-ead0-4c4a-a55a-62f7511315a2');\n",
              "          const dataTable =\n",
              "            await google.colab.kernel.invokeFunction('convertToInteractive',\n",
              "                                                     [key], {});\n",
              "          if (!dataTable) return;\n",
              "\n",
              "          const docLinkHtml = 'Like what you see? Visit the ' +\n",
              "            '<a target=\"_blank\" href=https://colab.research.google.com/notebooks/data_table.ipynb>data table notebook</a>'\n",
              "            + ' to learn more about interactive tables.';\n",
              "          element.innerHTML = '';\n",
              "          dataTable['output_type'] = 'display_data';\n",
              "          await google.colab.output.renderOutput(dataTable, element);\n",
              "          const docLink = document.createElement('div');\n",
              "          docLink.innerHTML = docLinkHtml;\n",
              "          element.appendChild(docLink);\n",
              "        }\n",
              "      </script>\n",
              "    </div>\n",
              "  </div>\n",
              "  "
            ]
          },
          "metadata": {},
          "execution_count": 95
        }
      ]
    },
    {
      "cell_type": "code",
      "source": [
        "#to check the scaling of the data\n",
        "\n",
        "import seaborn as sns\n",
        "\n",
        "sns.boxplot(data = data)"
      ],
      "metadata": {
        "colab": {
          "base_uri": "https://localhost:8080/",
          "height": 294
        },
        "id": "-K5m8V9P2Nhr",
        "outputId": "0ef7ca24-45af-459f-ceb1-2bafa95f4388"
      },
      "execution_count": 96,
      "outputs": [
        {
          "output_type": "execute_result",
          "data": {
            "text/plain": [
              "<matplotlib.axes._subplots.AxesSubplot at 0x7f3a134c7590>"
            ]
          },
          "metadata": {},
          "execution_count": 96
        },
        {
          "output_type": "display_data",
          "data": {
            "text/plain": [
              "<Figure size 432x288 with 1 Axes>"
            ],
            "image/png": "[encoded data removed]"
          },
          "metadata": {
            "needs_background": "light"
          }
        }
      ]
    },
    {
      "cell_type": "markdown",
      "source": [
        "- applying standard scaler due to outliers in data"
      ],
      "metadata": {
        "id": "fq2dEAU58DGV"
      }
    },
    {
      "cell_type": "code",
      "source": [
        "from sklearn.preprocessing import StandardScaler"
      ],
      "metadata": {
        "id": "dGuOwa1Q2NlD"
      },
      "execution_count": 98,
      "outputs": []
    },
    {
      "cell_type": "code",
      "source": [
        "ss = StandardScaler()"
      ],
      "metadata": {
        "id": "X4AFUPLu2Nsj"
      },
      "execution_count": 99,
      "outputs": []
    },
    {
      "cell_type": "code",
      "source": [
        "ss.fit_transform(data)"
      ],
      "metadata": {
        "colab": {
          "base_uri": "https://localhost:8080/"
        },
        "id": "ZF6Tmpez2Nvl",
        "outputId": "c5c4f5fa-e4c8-4afa-dea5-0d141b61ef8a"
      },
      "execution_count": 100,
      "outputs": [
        {
          "output_type": "execute_result",
          "data": {
            "text/plain": [
              "array([[-0.07457281, -1.13815981, -0.50607024, ..., -0.07756198,\n",
              "        -0.65372172,  0.65372172],\n",
              "       [-0.07457281,  0.25432123,  0.83579095, ..., -0.07756198,\n",
              "         1.52970289, -1.52970289],\n",
              "       [-0.07457281, -0.93923394,  0.83579095, ..., -0.07756198,\n",
              "        -0.65372172,  0.65372172],\n",
              "       ...,\n",
              "       [-0.07457281,  0.25432123, -0.50607024, ..., -0.07756198,\n",
              "         1.52970289, -1.52970289],\n",
              "       [-0.07457281, -0.44191929, -0.50607024, ..., -0.07756198,\n",
              "         1.52970289, -1.52970289],\n",
              "       [-0.07457281, -1.13815981, -0.50607024, ..., -0.07756198,\n",
              "         1.52970289, -1.52970289]])"
            ]
          },
          "metadata": {},
          "execution_count": 100
        }
      ]
    },
    {
      "cell_type": "markdown",
      "source": [
        "#clustering Algorithm Model\n",
        "- K-Means\n",
        "- in clustering our motive is to reduce the distance for each data point from cluster centers"
      ],
      "metadata": {
        "id": "tsqFKlAB8jTM"
      }
    },
    {
      "cell_type": "code",
      "source": [
        "from sklearn.cluster import KMeans \n"
      ],
      "metadata": {
        "id": "-LwycyZS8f7c"
      },
      "execution_count": 101,
      "outputs": []
    },
    {
      "cell_type": "code",
      "source": [
        "km = KMeans()"
      ],
      "metadata": {
        "id": "l6zggGKn8f-U"
      },
      "execution_count": 102,
      "outputs": []
    },
    {
      "cell_type": "code",
      "source": [
        "y_km = km.fit_predict(data)"
      ],
      "metadata": {
        "id": "YixEO_CV8gBz"
      },
      "execution_count": 103,
      "outputs": []
    },
    {
      "cell_type": "code",
      "source": [
        "y_km[0:20]"
      ],
      "metadata": {
        "colab": {
          "base_uri": "https://localhost:8080/"
        },
        "id": "HLkh9Fkb8gEQ",
        "outputId": "2c551272-df22-4c22-93ca-52cb7a6e4caf"
      },
      "execution_count": 105,
      "outputs": [
        {
          "output_type": "execute_result",
          "data": {
            "text/plain": [
              "array([3, 0, 3, 3, 6, 3, 0, 7, 0, 3, 7, 7, 7, 7, 7, 7, 7, 7, 0, 7],\n",
              "      dtype=int32)"
            ]
          },
          "metadata": {},
          "execution_count": 105
        }
      ]
    },
    {
      "cell_type": "code",
      "source": [
        "#finding the appropriate K Value\n",
        "#km.inertia_ value gives the objective function value to plot the intertia\n",
        "objs = []\n",
        "\n",
        "for k in range (1,11):\n",
        "  km = KMeans(n_clusters = k)\n",
        "  km.fit(data)\n",
        "  objs.append(km.inertia_)\n"
      ],
      "metadata": {
        "id": "IqiVLE948gIt"
      },
      "execution_count": 107,
      "outputs": []
    },
    {
      "cell_type": "code",
      "source": [
        "objs"
      ],
      "metadata": {
        "colab": {
          "base_uri": "https://localhost:8080/"
        },
        "id": "7f2UfLhH8gKy",
        "outputId": "48dad7ae-a771-4b06-8dd8-6ba31af3da26"
      },
      "execution_count": 108,
      "outputs": [
        {
          "output_type": "execute_result",
          "data": {
            "text/plain": [
              "[1084674120446.0359,\n",
              " 116860706391.48595,\n",
              " 63325977852.27078,\n",
              " 41718646478.56972,\n",
              " 30052799566.86953,\n",
              " 25574837542.552273,\n",
              " 21267787970.48038,\n",
              " 18101513319.732483,\n",
              " 15820345958.268724,\n",
              " 13958985760.540333]"
            ]
          },
          "metadata": {},
          "execution_count": 108
        }
      ]
    },
    {
      "cell_type": "code",
      "source": [
        "import matplotlib.pyplot as plt\n",
        "\n",
        "plt.plot(range(1,11),objs,marker = 'o')\n",
        "plt.xlabel('k')\n",
        "plt.ylabel('objs')\n",
        "\n"
      ],
      "metadata": {
        "colab": {
          "base_uri": "https://localhost:8080/",
          "height": 307
        },
        "id": "_4GpB7vj8gOV",
        "outputId": "5e2f9628-344f-4e37-9ed6-10fac19b804c"
      },
      "execution_count": 109,
      "outputs": [
        {
          "output_type": "execute_result",
          "data": {
            "text/plain": [
              "Text(0, 0.5, 'objs')"
            ]
          },
          "metadata": {},
          "execution_count": 109
        },
        {
          "output_type": "display_data",
          "data": {
            "text/plain": [
              "<Figure size 432x288 with 1 Axes>"
            ],
            "image/png": "[encoded data removed]"
          },
          "metadata": {
            "needs_background": "light"
          }
        }
      ]
    },
    {
      "cell_type": "markdown",
      "source": [
        "#by seeing the elbow chart we can predict 2 or 3 has the correct value for k-mean n_cluster\n",
        "- by using this u can create ur model\n",
        "- lets see the silhouette score for the cluster"
      ],
      "metadata": {
        "id": "hix7zuDgA3lV"
      }
    },
    {
      "cell_type": "code",
      "source": [
        "from sklearn.metrics import silhouette_score"
      ],
      "metadata": {
        "id": "flNe0jLd8gSA"
      },
      "execution_count": 110,
      "outputs": []
    },
    {
      "cell_type": "code",
      "source": [
        "silhouette_score(data, y_km)"
      ],
      "metadata": {
        "colab": {
          "base_uri": "https://localhost:8080/"
        },
        "id": "klmml9iv8gUU",
        "outputId": "0b883c54-755c-4e2e-841c-9f5122bf33c9"
      },
      "execution_count": 115,
      "outputs": [
        {
          "output_type": "execute_result",
          "data": {
            "text/plain": [
              "0.26233193460479115"
            ]
          },
          "metadata": {},
          "execution_count": 115
        }
      ]
    },
    {
      "cell_type": "code",
      "source": [
        "#it is not a good score but we can tune more to get the score\n",
        "#y_km.labels_  it is same as fit_predict normaly we use fit() but\n",
        "#we directly used fit_predict so need for label_"
      ],
      "metadata": {
        "id": "T6ZV1kgLB0lx"
      },
      "execution_count": null,
      "outputs": []
    },
    {
      "cell_type": "code",
      "source": [
        "km.labels_"
      ],
      "metadata": {
        "colab": {
          "base_uri": "https://localhost:8080/"
        },
        "id": "cqpN-ueKCK4t",
        "outputId": "7307c036-01fa-49d6-f85f-30210e752760"
      },
      "execution_count": 116,
      "outputs": [
        {
          "output_type": "execute_result",
          "data": {
            "text/plain": [
              "array([6, 0, 6, ..., 5, 8, 8], dtype=int32)"
            ]
          },
          "metadata": {},
          "execution_count": 116
        }
      ]
    }
  ]
}